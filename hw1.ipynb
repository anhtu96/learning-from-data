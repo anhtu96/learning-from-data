{
 "cells": [
  {
   "cell_type": "code",
   "execution_count": 11,
   "metadata": {},
   "outputs": [],
   "source": [
    "import matplotlib.pyplot as plt\n",
    "import numpy as np\n",
    "from sklearn.linear_model import LinearRegression"
   ]
  },
  {
   "cell_type": "code",
   "execution_count": 216,
   "metadata": {},
   "outputs": [],
   "source": [
    "def init(d, N):\n",
    "#     np.random.seed(2)\n",
    "    line_points = np.random.uniform(-1, 1, size=[2, 2])\n",
    "    lr = LinearRegression(fit_intercept=True)\n",
    "    lr.fit(line_points[:,0].reshape(-1, 1), line_points[:,1])\n",
    "    line_coef = [lr.intercept_, lr.coef_]\n",
    "    X = np.random.uniform(-1, 1, size=[N, d])\n",
    "    \n",
    "#     line_coef = list()\n",
    "#     line_coef.append((line_points[1,0]-line_points[1,1])/(line_points[0,0]-line_points[0,1]))\n",
    "#     line_coef.append(line_points[1,0]-line_coef[-1]*line_points[0,0])\n",
    "#     line_coef = np.array(line_coef)\n",
    "\n",
    "    \n",
    "    y = X[:, 1] - X[:, 0] * line_coef[1] - line_coef[0] >= 0\n",
    "    y = np.where(y, 1, -1)\n",
    "    \n",
    "    return X, y, line_coef"
   ]
  },
  {
   "cell_type": "code",
   "execution_count": 217,
   "metadata": {},
   "outputs": [],
   "source": [
    "def plot(X, y, w):\n",
    "    plt.figure(figsize=(10, 7))\n",
    "    plt.scatter(X[y==-1,0], X[y==-1,1], c='r', s=100)\n",
    "    plt.scatter(X[y==1,0], X[y==1,1], c='g', s=100)\n",
    "    x_plot = np.linspace(min(X[:,0])-.5, max(X[:,1])+.5)\n",
    "    y_plot = -w[1]/w[2]*x_plot - w[0]/w[2]\n",
    "    plt.plot(x_plot, y_plot)"
   ]
  },
  {
   "cell_type": "code",
   "execution_count": 256,
   "metadata": {},
   "outputs": [],
   "source": [
    "def make_grid(n_points=1000):\n",
    "    x = np.linspace(-1, 1, n_points)\n",
    "    grid = []\n",
    "    for i in range(n_points):\n",
    "        for j in range(n_points):\n",
    "            grid.append([x[i], x[j]])\n",
    "    return np.array(grid)"
   ]
  },
  {
   "cell_type": "code",
   "execution_count": 264,
   "metadata": {},
   "outputs": [],
   "source": [
    "def pla(X, y):\n",
    "    w = np.zeros(X.shape[1])\n",
    "    loop = 0\n",
    "    converged = False\n",
    "    while not converged:\n",
    "        converged = True\n",
    "        for i in range(X.shape[0]):\n",
    "            xi = X[i]\n",
    "            yi = y[i]\n",
    "            if yi * (xi.dot(w)) <= 0:\n",
    "                loop += 1\n",
    "                w += yi * xi\n",
    "                converged = False\n",
    "    return (w, loop)\n",
    "\n",
    "def experiment(d, N, n_times=1000):\n",
    "    loop_list = []\n",
    "    grid = make_grid(1000)\n",
    "    for i in range(n_times):\n",
    "        X, y, line_coef = init(d, N)\n",
    "        X_bar = np.hstack((np.ones([X.shape[0], 1]), X))\n",
    "        w, loop = pla(X_bar, y)\n",
    "        loop_list.append(loop)\n",
    "    print('Average iters: {}'.format(np.mean(loop_list)))"
   ]
  },
  {
   "cell_type": "code",
   "execution_count": 265,
   "metadata": {},
   "outputs": [
    {
     "name": "stdout",
     "output_type": "stream",
     "text": [
      "Average iters: 137.115\n"
     ]
    },
    {
     "ename": "NameError",
     "evalue": "name 'total_different_points' is not defined",
     "output_type": "error",
     "traceback": [
      "\u001b[0;31m---------------------------------------------------------------------------\u001b[0m",
      "\u001b[0;31mNameError\u001b[0m                                 Traceback (most recent call last)",
      "\u001b[0;32m<ipython-input-265-59befa8f5f87>\u001b[0m in \u001b[0;36m<module>\u001b[0;34m\u001b[0m\n\u001b[0;32m----> 1\u001b[0;31m \u001b[0mexperiment\u001b[0m\u001b[0;34m(\u001b[0m\u001b[0;36m2\u001b[0m\u001b[0;34m,\u001b[0m \u001b[0;36m100\u001b[0m\u001b[0;34m,\u001b[0m \u001b[0;36m1000\u001b[0m\u001b[0;34m)\u001b[0m\u001b[0;34m\u001b[0m\u001b[0;34m\u001b[0m\u001b[0m\n\u001b[0m",
      "\u001b[0;32m<ipython-input-264-b374efa13b3f>\u001b[0m in \u001b[0;36mexperiment\u001b[0;34m(d, N, n_times)\u001b[0m\n\u001b[1;32m     23\u001b[0m         \u001b[0mloop_list\u001b[0m\u001b[0;34m.\u001b[0m\u001b[0mappend\u001b[0m\u001b[0;34m(\u001b[0m\u001b[0mloop\u001b[0m\u001b[0;34m)\u001b[0m\u001b[0;34m\u001b[0m\u001b[0;34m\u001b[0m\u001b[0m\n\u001b[1;32m     24\u001b[0m     \u001b[0mprint\u001b[0m\u001b[0;34m(\u001b[0m\u001b[0;34m'Average iters: {}'\u001b[0m\u001b[0;34m.\u001b[0m\u001b[0mformat\u001b[0m\u001b[0;34m(\u001b[0m\u001b[0mnp\u001b[0m\u001b[0;34m.\u001b[0m\u001b[0mmean\u001b[0m\u001b[0;34m(\u001b[0m\u001b[0mloop_list\u001b[0m\u001b[0;34m)\u001b[0m\u001b[0;34m)\u001b[0m\u001b[0;34m)\u001b[0m\u001b[0;34m\u001b[0m\u001b[0;34m\u001b[0m\u001b[0m\n\u001b[0;32m---> 25\u001b[0;31m     \u001b[0mprint\u001b[0m\u001b[0;34m(\u001b[0m\u001b[0;34m'Probability that G(x) != H(x): {}'\u001b[0m\u001b[0;34m.\u001b[0m\u001b[0mformat\u001b[0m\u001b[0;34m(\u001b[0m\u001b[0mtotal_different_points\u001b[0m\u001b[0;34m/\u001b[0m\u001b[0;36m100\u001b[0m\u001b[0;34m**\u001b[0m\u001b[0;36m2\u001b[0m\u001b[0;34m)\u001b[0m\u001b[0;34m)\u001b[0m\u001b[0;34m\u001b[0m\u001b[0;34m\u001b[0m\u001b[0m\n\u001b[0m",
      "\u001b[0;31mNameError\u001b[0m: name 'total_different_points' is not defined"
     ]
    }
   ],
   "source": [
    "experiment(2, 100, 1000)"
   ]
  },
  {
   "cell_type": "code",
   "execution_count": 260,
   "metadata": {},
   "outputs": [],
   "source": [
    "a = np.array((1, 2, 3))"
   ]
  },
  {
   "cell_type": "code",
   "execution_count": 261,
   "metadata": {},
   "outputs": [
    {
     "data": {
      "text/plain": [
       "array([1, 1, 1])"
      ]
     },
     "execution_count": 261,
     "metadata": {},
     "output_type": "execute_result"
    }
   ],
   "source": [
    "np.sign(a)"
   ]
  },
  {
   "cell_type": "code",
   "execution_count": 262,
   "metadata": {},
   "outputs": [
    {
     "data": {
      "text/plain": [
       "array([-1,  1,  1])"
      ]
     },
     "execution_count": 262,
     "metadata": {},
     "output_type": "execute_result"
    }
   ],
   "source": [
    "b = np.array([-1, 2, 3])\n",
    "np.sign(b)"
   ]
  },
  {
   "cell_type": "code",
   "execution_count": 263,
   "metadata": {},
   "outputs": [
    {
     "data": {
      "text/plain": [
       "array([ True, False, False])"
      ]
     },
     "execution_count": 263,
     "metadata": {},
     "output_type": "execute_result"
    }
   ],
   "source": [
    "np.sign(a) != np.sign(b)"
   ]
  },
  {
   "cell_type": "code",
   "execution_count": null,
   "metadata": {},
   "outputs": [],
   "source": []
  }
 ],
 "metadata": {
  "kernelspec": {
   "display_name": "Python 3",
   "language": "python",
   "name": "python3"
  },
  "language_info": {
   "codemirror_mode": {
    "name": "ipython",
    "version": 3
   },
   "file_extension": ".py",
   "mimetype": "text/x-python",
   "name": "python",
   "nbconvert_exporter": "python",
   "pygments_lexer": "ipython3",
   "version": "3.7.4"
  }
 },
 "nbformat": 4,
 "nbformat_minor": 2
}
