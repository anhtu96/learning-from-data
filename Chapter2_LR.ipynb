{
 "cells": [
  {
   "cell_type": "code",
   "execution_count": 1,
   "metadata": {},
   "outputs": [],
   "source": [
    "import numpy as np\n",
    "import matplotlib.pyplot as plt\n",
    "from sklearn.linear_model import LinearRegression\n",
    "from tqdm import tqdm_notebook"
   ]
  },
  {
   "cell_type": "code",
   "execution_count": 2,
   "metadata": {},
   "outputs": [],
   "source": [
    "def init(d, N):\n",
    "#     np.random.seed(2)\n",
    "    line_points = np.random.uniform(-1, 1, size=[2, 2])\n",
    "    lr = LinearRegression(fit_intercept=True)\n",
    "    lr.fit(line_points[:,0].reshape(-1, 1), line_points[:,1])\n",
    "    line_coef = np.array([lr.intercept_, lr.coef_[0]])\n",
    "    X = np.random.uniform(-1, 1, size=[N, d])\n",
    "\n",
    "    y = X[:, 1] - X[:, 0] * line_coef[1] - line_coef[0] >= 0\n",
    "    y = np.where(y, 1, -1)\n",
    "    \n",
    "    return X, y, line_coef"
   ]
  },
  {
   "cell_type": "code",
   "execution_count": 3,
   "metadata": {},
   "outputs": [],
   "source": [
    "def LR(d, N_train, N_test=None, n_experiments=1000, print_w=False, PLA=False, noise=False, func=None, nonlinear_transform=None):\n",
    "    Ein = []\n",
    "    Eout = []\n",
    "    loops_list = []\n",
    "    w_list = []\n",
    "    print('Running Linear Regression')\n",
    "    for i in tqdm_notebook(range(n_experiments)):\n",
    "        # Linear Regression\n",
    "        # in-sample error\n",
    "        if func:\n",
    "            X = np.random.uniform(-1, 1, size=[N_train, d])\n",
    "            y = func(X)\n",
    "        else:\n",
    "            X, y, w_fx = init(d, N_train)\n",
    "            \n",
    "        if nonlinear_transform:\n",
    "            X = nonlinear_transform(X)\n",
    "            \n",
    "        X_bar = np.hstack((np.ones((X.shape[0],1)), X))\n",
    "        if noise:\n",
    "            idx = np.random.randint(0, N_train, size=int(N_train*noise))\n",
    "            y[idx] *= -1\n",
    "        \n",
    "        w_gx = np.linalg.inv(X_bar.T.dot(X_bar)).dot(X_bar.T).dot(y)\n",
    "        pred = X_bar.dot(w_gx)\n",
    "        pred[pred < 0] = -1\n",
    "        pred[pred > 0] = 1\n",
    "        Ein.append(np.mean(pred!=y))\n",
    "        w_list.append(w_gx)\n",
    "\n",
    "        # out-sample error\n",
    "        if N_test:\n",
    "            if func:\n",
    "                X_test = np.random.uniform(-1, 1, size=[N_test, d])\n",
    "                y_test = func(X_test)\n",
    "            else:\n",
    "                X_test = np.random.uniform(-1, 1, size=[N_test, d])\n",
    "                y_test = X_test[:, 1] - X_test[:, 0] * w_fx[1] - w_fx[0] >= 0\n",
    "                y_test = np.where(y_test, 1, -1)\n",
    "                \n",
    "            if noise:\n",
    "                idx = np.random.randint(0, N_test, size=int(N_test*noise))\n",
    "                y_test[idx] *= -1\n",
    "                \n",
    "            if nonlinear_transform:\n",
    "                X_test = nonlinear_transform(X_test)\n",
    "            X_test_bar = np.hstack((np.ones((X_test.shape[0],1)), X_test))\n",
    "            pred_out = X_test_bar.dot(w_gx)\n",
    "            pred_out[pred_out < 0] = -1\n",
    "            pred_out[pred_out > 0] = 1\n",
    "            Eout.append(np.mean(pred_out!=y_test))\n",
    "\n",
    "        # use initial weights for PLA\n",
    "        if PLA:\n",
    "            converged = False\n",
    "            w_pla = w_gx.copy()\n",
    "            loops = 0\n",
    "            while not converged:\n",
    "                converged = True\n",
    "                for i in range(X_bar.shape[0]):\n",
    "                    xi = X_bar[i]\n",
    "                    yi = y[i]\n",
    "                    if np.sign(xi.dot(w_pla)) != np.sign(yi):\n",
    "                        loops += 1\n",
    "                        w_pla += yi*xi\n",
    "                        converged = False\n",
    "            loops_list.append(loops)\n",
    "\n",
    "    print('In-sample error: {}'.format(np.mean(Ein)))\n",
    "    if N_test:\n",
    "        print('Out-sample error: {}'.format(np.mean(Eout)))\n",
    "    if PLA:\n",
    "        print('Average loops for PLA: {}'.format(np.mean(loops_list)))\n",
    "    if print_w:\n",
    "        w_list = np.array(w_list)\n",
    "        print('Weights: ', np.mean(w_list, axis=0))"
   ]
  },
  {
   "cell_type": "code",
   "execution_count": 4,
   "metadata": {},
   "outputs": [
    {
     "name": "stdout",
     "output_type": "stream",
     "text": [
      "Running Linear Regression\n"
     ]
    },
    {
     "data": {
      "application/vnd.jupyter.widget-view+json": {
       "model_id": "9a0a2d46be42479ea52e267370795ddb",
       "version_major": 2,
       "version_minor": 0
      },
      "text/plain": [
       "HBox(children=(IntProgress(value=0, max=1000), HTML(value='')))"
      ]
     },
     "metadata": {},
     "output_type": "display_data"
    },
    {
     "name": "stdout",
     "output_type": "stream",
     "text": [
      "\n",
      "In-sample error: 0.03866000000000001\n",
      "Out-sample error: 0.04824600000000001\n"
     ]
    }
   ],
   "source": [
    "# question 5, 6\n",
    "LR(2, 100, 1000, 1000)"
   ]
  },
  {
   "cell_type": "code",
   "execution_count": 5,
   "metadata": {},
   "outputs": [
    {
     "name": "stdout",
     "output_type": "stream",
     "text": [
      "Running Linear Regression\n"
     ]
    },
    {
     "data": {
      "application/vnd.jupyter.widget-view+json": {
       "model_id": "b0d255ffe5624fa78ce08928eb12085f",
       "version_major": 2,
       "version_minor": 0
      },
      "text/plain": [
       "HBox(children=(IntProgress(value=0, max=1000), HTML(value='')))"
      ]
     },
     "metadata": {},
     "output_type": "display_data"
    },
    {
     "name": "stdout",
     "output_type": "stream",
     "text": [
      "\n",
      "In-sample error: 0.026800000000000004\n",
      "Out-sample error: 0.109616\n",
      "Average loops for PLA: 6.547\n"
     ]
    }
   ],
   "source": [
    "# question 7\n",
    "LR(2, 10, 1000, 1000, PLA=True)"
   ]
  },
  {
   "cell_type": "code",
   "execution_count": 6,
   "metadata": {},
   "outputs": [],
   "source": [
    "def myfunc(X):\n",
    "    return np.sign(X[:,0]**2 + X[:,1]**2 - .6)"
   ]
  },
  {
   "cell_type": "code",
   "execution_count": 7,
   "metadata": {},
   "outputs": [
    {
     "name": "stdout",
     "output_type": "stream",
     "text": [
      "Running Linear Regression\n"
     ]
    },
    {
     "data": {
      "application/vnd.jupyter.widget-view+json": {
       "model_id": "c0396c7465124606be40d7fb7a6ba7ec",
       "version_major": 2,
       "version_minor": 0
      },
      "text/plain": [
       "HBox(children=(IntProgress(value=0, max=1000), HTML(value='')))"
      ]
     },
     "metadata": {},
     "output_type": "display_data"
    },
    {
     "name": "stdout",
     "output_type": "stream",
     "text": [
      "\n",
      "In-sample error: 0.508009\n"
     ]
    }
   ],
   "source": [
    "# question 8\n",
    "LR(2, 1000, None, 1000, noise=.1, func=myfunc)"
   ]
  },
  {
   "cell_type": "code",
   "execution_count": 8,
   "metadata": {},
   "outputs": [],
   "source": [
    "def mytransform(X):\n",
    "    X = np.hstack((X, (X[:,0]*X[:,1]).reshape(-1,1), (X[:,0]**2).reshape(-1,1), (X[:,1]**2).reshape(-1,1)))\n",
    "    return X"
   ]
  },
  {
   "cell_type": "code",
   "execution_count": 9,
   "metadata": {},
   "outputs": [
    {
     "name": "stdout",
     "output_type": "stream",
     "text": [
      "Running Linear Regression\n"
     ]
    },
    {
     "data": {
      "application/vnd.jupyter.widget-view+json": {
       "model_id": "106c07a822604f96ae6fcf186f617255",
       "version_major": 2,
       "version_minor": 0
      },
      "text/plain": [
       "HBox(children=(IntProgress(value=0, max=1000), HTML(value='')))"
      ]
     },
     "metadata": {},
     "output_type": "display_data"
    },
    {
     "name": "stdout",
     "output_type": "stream",
     "text": [
      "\n",
      "In-sample error: 0.11947900000000002\n",
      "Weights:  [-1.00539261e+00 -9.38429538e-04 -1.18301654e-03 -2.24970688e-04\n",
      "  1.57839652e+00  1.57756050e+00]\n"
     ]
    }
   ],
   "source": [
    "# question 9\n",
    "LR(2, 1000, False, 1000, print_w=True, noise=.1, func=myfunc, nonlinear_transform=mytransform)"
   ]
  },
  {
   "cell_type": "code",
   "execution_count": 10,
   "metadata": {},
   "outputs": [
    {
     "name": "stdout",
     "output_type": "stream",
     "text": [
      "Running Linear Regression\n"
     ]
    },
    {
     "data": {
      "application/vnd.jupyter.widget-view+json": {
       "model_id": "f66611a06bf4409f9e57059ed0840ab2",
       "version_major": 2,
       "version_minor": 0
      },
      "text/plain": [
       "HBox(children=(IntProgress(value=0, max=1000), HTML(value='')))"
      ]
     },
     "metadata": {},
     "output_type": "display_data"
    },
    {
     "name": "stdout",
     "output_type": "stream",
     "text": [
      "\n",
      "In-sample error: 0.11937\n",
      "Out-sample error: 0.12144999999999999\n",
      "Weights:  [-1.00390918e+00 -6.13668466e-04  1.04065876e-03 -3.73659121e-03\n",
      "  1.57671585e+00  1.57457246e+00]\n"
     ]
    }
   ],
   "source": [
    "# question 10\n",
    "LR(2, 1000, 1000, 1000, True, False, .1, myfunc, mytransform)"
   ]
  }
 ],
 "metadata": {
  "kernelspec": {
   "display_name": "Python 3",
   "language": "python",
   "name": "python3"
  },
  "language_info": {
   "codemirror_mode": {
    "name": "ipython",
    "version": 3
   },
   "file_extension": ".py",
   "mimetype": "text/x-python",
   "name": "python",
   "nbconvert_exporter": "python",
   "pygments_lexer": "ipython3",
   "version": "3.7.4"
  }
 },
 "nbformat": 4,
 "nbformat_minor": 2
}
