{
 "cells": [
  {
   "cell_type": "code",
   "execution_count": 3,
   "metadata": {},
   "outputs": [],
   "source": [
    "import numpy as np\n",
    "import matplotlib.pyplot as plt"
   ]
  },
  {
   "cell_type": "markdown",
   "metadata": {},
   "source": [
    "### Question 2"
   ]
  },
  {
   "cell_type": "code",
   "execution_count": 97,
   "metadata": {},
   "outputs": [],
   "source": [
    "def vc_dim(N, dvc):\n",
    "    return float(N**dvc)"
   ]
  },
  {
   "cell_type": "code",
   "execution_count": 105,
   "metadata": {},
   "outputs": [],
   "source": [
    "dvc = 50\n",
    "d = .05\n",
    "e = .05\n",
    "\n",
    "def vc_bound(N, dvc, d):\n",
    "    return np.sqrt(8/N * np.log(4*vc_dim(2*N,dvc)/d))\n",
    "def rp_bound(N, dvc, d):\n",
    "    return np.sqrt(2*np.log(2*N*vc_dim(N,dvc)*1.0)/N) + np.sqrt(2/N * np.log(1/d)) + 1/N\n",
    "def par_van(N, dvc, d, e):\n",
    "    return np.sqrt(1/N*(2*e + np.log(6*vc_dim(2*N,dvc)/d)))\n",
    "def devroye(N, dvc, d, e):\n",
    "    return np.sqrt(1/2/N * (4*e*(1+e) + np.log(4*vc_dim(N**2,dvc)/d)))"
   ]
  },
  {
   "cell_type": "code",
   "execution_count": 110,
   "metadata": {},
   "outputs": [
    {
     "name": "stdout",
     "output_type": "stream",
     "text": [
      "VC bound: 1.6824066281847436\n",
      "RP bound: 0.8813311892041796\n",
      "Parrondo-Van: 0.595206704897247\n",
      "Devroye: 0.5660463250048614\n"
     ]
    }
   ],
   "source": [
    "# with N = 10000\n",
    "print('VC bound: {}'.format(vc_bound(N, dvc, d)))\n",
    "print('RP bound: {}'.format(rp_bound(N, dvc, d)))\n",
    "print('Parrondo-Van: {}'.format(par_van(N, dvc, d, e)))\n",
    "print('Devroye: {}'.format(devroye(N, dvc, d, e)))"
   ]
  },
  {
   "cell_type": "code",
   "execution_count": 104,
   "metadata": {},
   "outputs": [
    {
     "name": "stdout",
     "output_type": "stream",
     "text": [
      "VC bound: 13.828161484991483\n",
      "RP bound: 7.048776564183685\n",
      "Parrondo-Van: 4.937949906438589\n",
      "Devroye: 4.16324174025583\n"
     ]
    }
   ],
   "source": [
    "# with N = 5\n",
    "print('VC bound: {}'.format(vc_bound(5, dvc, d)))\n",
    "print('RP bound: {}'.format(rp_bound(5, dvc, d)))\n",
    "print('Parrondo-Van: {}'.format(par_van(5, dvc, d, e=1)))\n",
    "print('Devroye: {}'.format(devroye(5, dvc, d, e=1)))"
   ]
  },
  {
   "cell_type": "markdown",
   "metadata": {},
   "source": [
    "### Bias and variance"
   ]
  },
  {
   "cell_type": "code",
   "execution_count": 114,
   "metadata": {},
   "outputs": [],
   "source": [
    "from sklearn.linear_model import LinearRegression"
   ]
  },
  {
   "cell_type": "code",
   "execution_count": 721,
   "metadata": {},
   "outputs": [],
   "source": [
    "def generate_pairs(n_pairs=1, n_points=2):\n",
    "    x_pairs, y_pairs = [], []\n",
    "    for i in range(n_pairs):\n",
    "        x = np.random.uniform(-1,1,n_points)\n",
    "        y = np.sin(np.pi*x)\n",
    "        x = x.reshape(-1, 1)\n",
    "        y = y.reshape(-1, 1)\n",
    "        x_pairs.append(x)\n",
    "        y_pairs.append(y)\n",
    "    return x_pairs, y_pairs"
   ]
  },
  {
   "cell_type": "code",
   "execution_count": 748,
   "metadata": {},
   "outputs": [
    {
     "name": "stdout",
     "output_type": "stream",
     "text": [
      "a_avg = 1.4247006103724842\n"
     ]
    }
   ],
   "source": [
    "# question 4\n",
    "n_loops = 5000\n",
    "w = []\n",
    "x, y = generate_pairs(n_loops)\n",
    "for i in range(n_loops):\n",
    "    lr = LinearRegression(fit_intercept=False)\n",
    "    lr.fit(x[i], y[i])\n",
    "    w.append(lr.coef_[0][0])\n",
    "\n",
    "w_mean = np.mean(w)\n",
    "print('a_avg = {}'.format(w_mean))"
   ]
  },
  {
   "cell_type": "code",
   "execution_count": 749,
   "metadata": {},
   "outputs": [
    {
     "name": "stdout",
     "output_type": "stream",
     "text": [
      "Bias: 0.27069811920613024\n",
      "Variance: 0.19994589723222042\n"
     ]
    }
   ],
   "source": [
    "x_test, y_test = generate_pairs(1, 100)\n",
    "model_pred = w_mean * x_test[0]\n",
    "bias = np.mean((model_pred - y_test)**2)\n",
    "var = []\n",
    "for i in range(n_loops):\n",
    "    pred = w[i] * x_test[0]\n",
    "    var.append(np.mean((model_pred - pred)**2))\n",
    "var_avg = np.mean(var)\n",
    "print('Bias: {}'.format(bias))\n",
    "print('Variance: {}'.format(var_avg))"
   ]
  },
  {
   "cell_type": "code",
   "execution_count": 811,
   "metadata": {},
   "outputs": [],
   "source": [
    "# question 7\n",
    "n_samples = 10000\n",
    "x, y = generate_pairs(n_samples)\n",
    "x_test, y_test = generate_pairs(1, 100)\n",
    "se = {'g1':[], 'g2': [], 'g3': [], 'g4': [], 'g5': []}\n",
    "g1, g2, g3, g4, g5 = [], [], [], [], []\n",
    "for i in range(n_samples):\n",
    "    # g = b\n",
    "    lr1 = LinearRegression(fit_intercept=True)\n",
    "    lr1.fit(x[i]**0, y[i])\n",
    "    g1.append(lr1.intercept_[0])\n",
    "    pred1 = lr1.predict(x_test[0])\n",
    "    se['g1'].append(np.mean((pred1 - y_test[0])**2))\n",
    "    \n",
    "    # g = ax\n",
    "    lr2 = LinearRegression(fit_intercept=False)\n",
    "    lr2.fit(x[i], y[i])\n",
    "    g2.append(lr2.coef_[0][0])\n",
    "    pred2 = lr2.predict(x_test[0])\n",
    "    se['g2'].append(np.mean((pred2 - y_test[0])**2))\n",
    "    \n",
    "    # g = ax + b\n",
    "    lr3 = LinearRegression(fit_intercept=True)\n",
    "    lr3.fit(x[i], y[i])\n",
    "    g3.append([lr3.intercept_[0], lr3.coef_[0][0]])\n",
    "    pred3 = lr3.predict(x_test[0])\n",
    "    se['g3'].append(np.mean((pred3 - y_test[0])**2))\n",
    "    \n",
    "    # g = ax^2\n",
    "    lr4 = LinearRegression(fit_intercept=False)\n",
    "    lr4.fit(x[i]**2, y[i])\n",
    "    g4.append(lr4.coef_[0][0])\n",
    "    pred4 = lr4.predict(x_test[0]**2)\n",
    "    se['g4'].append(np.mean((pred4 - y_test[0])**2))\n",
    "    \n",
    "    # g = ax^2 + b\n",
    "    lr5 = LinearRegression(fit_intercept=True)\n",
    "    lr5.fit(x[i]**2, y[i])\n",
    "    g5.append([lr5.intercept_[0], lr5.coef_[0][0]])\n",
    "    pred5 = lr5.predict(x_test[0]**2)\n",
    "    se['g5'].append(np.mean((pred5 - y_test[0])**2))"
   ]
  },
  {
   "cell_type": "code",
   "execution_count": 820,
   "metadata": {},
   "outputs": [
    {
     "name": "stdout",
     "output_type": "stream",
     "text": [
      "Model 1: bias = 0.521, variance = 0.252, expected OOS error: 0.77284, actual OOS error: 0.77284\n",
      "Model 2: bias = 0.221, variance = 0.222, expected OOS error: 0.44336, actual OOS error: 0.44336\n",
      "Model 3: bias = 0.203, variance = 1.677, expected OOS error: 1.87946, actual OOS error: 1.87946\n",
      "Model 4: bias = 0.527, variance = 12.149, expected OOS error: 12.67560, actual OOS error: 12.67560\n",
      "Model 5: bias = 0.933, variance = 6296.690, expected OOS error: 6297.62312, actual OOS error: 6297.62312\n"
     ]
    }
   ],
   "source": [
    "# x, y = generate(n_loops)\n",
    "g1_avg_pred = np.mean(g1)\n",
    "g2_avg_pred = np.mean(g2) * x_test[0]\n",
    "g3_avg_pred = np.mean(g3,0)[0] + np.mean(g3,0)[1] * x_test[0]\n",
    "g4_avg_pred = np.mean(g4) * x_test[0]**2\n",
    "g5_avg_pred = np.mean(g5,0)[0] + np.mean(g5,0)[1] * x_test[0]**2\n",
    "\n",
    "bias1 = np.mean((g1_avg_pred - y_test[0])**2)\n",
    "bias2 = np.mean((g2_avg_pred - y_test[0])**2)\n",
    "bias3 = np.mean((g3_avg_pred - y_test[0])**2)\n",
    "bias4 = np.mean((g4_avg_pred - y_test[0])**2)\n",
    "bias5 = np.mean((g5_avg_pred - y_test[0])**2)\n",
    "\n",
    "var1, var2, var3, var4, var5 = [], [], [], [], []\n",
    "for i in range(n_samples):\n",
    "    h1_pred = g1[i]\n",
    "    h2_pred = g2[i] * x_test[0]\n",
    "    h3_pred = g3[i][0] + g3[i][1] * x_test[0]\n",
    "    h4_pred = g4[i] * x_test[0]**2\n",
    "    h5_pred = g5[i][0] + g5[i][1] * x_test[0]**2\n",
    "    var1.append(np.mean((h1_pred - g1_avg_pred)**2))\n",
    "    var2.append(np.mean((h2_pred - g2_avg_pred)**2))\n",
    "    var3.append(np.mean((h3_pred - g3_avg_pred)**2))\n",
    "    var4.append(np.mean((h4_pred - g4_avg_pred)**2))\n",
    "    var5.append(np.mean((h5_pred - g5_avg_pred)**2))\n",
    "    \n",
    "var1 = np.mean(var1)\n",
    "var2 = np.mean(var2)\n",
    "var3 = np.mean(var3)\n",
    "var4 = np.mean(var4)\n",
    "var5 = np.mean(var5)\n",
    "\n",
    "\n",
    "print('Model 1: bias = {:.3f}, variance = {:.3f}, expected OOS error: {:.5f}, actual OOS error: {:.5f}'\n",
    "     .format(bias1, var1, bias1+var1, np.mean(se['g1'])))\n",
    "print('Model 2: bias = {:.3f}, variance = {:.3f}, expected OOS error: {:.5f}, actual OOS error: {:.5f}'\n",
    "     .format(bias2, var2, bias2+var2, np.mean(se['g2'])))\n",
    "print('Model 3: bias = {:.3f}, variance = {:.3f}, expected OOS error: {:.5f}, actual OOS error: {:.5f}'\n",
    "     .format(bias3, var3, bias3+var3, np.mean(se['g3'])))\n",
    "print('Model 4: bias = {:.3f}, variance = {:.3f}, expected OOS error: {:.5f}, actual OOS error: {:.5f}'\n",
    "     .format(bias4, var4, bias4+var4, np.mean(se['g4'])))\n",
    "print('Model 5: bias = {:.3f}, variance = {:.3f}, expected OOS error: {:.5f}, actual OOS error: {:.5f}'\n",
    "     .format(bias5, var5, bias5+var5, np.mean(se['g5'])))"
   ]
  },
  {
   "cell_type": "code",
   "execution_count": 814,
   "metadata": {},
   "outputs": [
    {
     "data": {
      "text/plain": [
       "0.7728444216597024"
      ]
     },
     "execution_count": 814,
     "metadata": {},
     "output_type": "execute_result"
    }
   ],
   "source": [
    "bias1 + var1"
   ]
  },
  {
   "cell_type": "code",
   "execution_count": 816,
   "metadata": {},
   "outputs": [
    {
     "data": {
      "text/plain": [
       "0.7728444216597024"
      ]
     },
     "execution_count": 816,
     "metadata": {},
     "output_type": "execute_result"
    }
   ],
   "source": [
    "np.mean(se['g1'])"
   ]
  },
  {
   "cell_type": "code",
   "execution_count": 410,
   "metadata": {},
   "outputs": [
    {
     "name": "stdout",
     "output_type": "stream",
     "text": [
      "Expected Eout1: 0.7586015932401099\n",
      "Expected Eout2: 0.4748262028918727\n",
      "Expected Eout3: 0.4098554930648931\n",
      "Expected Eout4: 0.8525452462249044\n",
      "Expected Eout5: 5.589938231888371\n"
     ]
    }
   ],
   "source": [
    "print('Expected Eout1: {}'.format(np.mean(bias1)+np.mean(var1)))\n",
    "print('Expected Eout2: {}'.format(np.mean(bias2)+np.mean(var2)))\n",
    "print('Expected Eout3: {}'.format(np.mean(bias3)+np.mean(var3)))\n",
    "print('Expected Eout4: {}'.format(np.mean(bias4)+np.mean(var4)))\n",
    "print('Expected Eout5: {}'.format(np.mean(bias5)+np.mean(var5)))"
   ]
  },
  {
   "cell_type": "code",
   "execution_count": 42,
   "metadata": {},
   "outputs": [],
   "source": [
    "# question 8\n",
    "from scipy.special import binom\n",
    "\n",
    "def growth_func(N, q):\n",
    "    # growth function\n",
    "    inner_sum = 1\n",
    "    for i in range(1, N):\n",
    "        inner_sum -= binom(i, q)/2**(i+1)\n",
    "    return 2**N * inner_sum"
   ]
  },
  {
   "cell_type": "code",
   "execution_count": 127,
   "metadata": {},
   "outputs": [
    {
     "data": {
      "text/plain": [
       "<matplotlib.legend.Legend at 0x82f71ba10>"
      ]
     },
     "execution_count": 127,
     "metadata": {},
     "output_type": "execute_result"
    },
    {
     "data": {
      "image/png": "[encoded data removed]",
      "text/plain": [
       "<Figure size 720x504 with 1 Axes>"
      ]
     },
     "metadata": {
      "needs_background": "light"
     },
     "output_type": "display_data"
    }
   ],
   "source": [
    "q = 2\n",
    "gf = []\n",
    "N = range(1, q+2)\n",
    "for n in N:\n",
    "    gf.append(growth_func(n, q))\n",
    "        \n",
    "plt.figure(figsize=(10, 7))\n",
    "plt.plot(N, gf, label='growth function', linewidth=2)\n",
    "plt.scatter(q, 2**q, s=100, label='break point - 1', c='r')\n",
    "plt.plot(N, [2**n for n in N], label='2*N', c='r')\n",
    "\n",
    "plt.annotate('break point-1', (q, 2**q), xytext=(-50, 20), textcoords='offset points')\n",
    "plt.title('q = {}'.format(q))\n",
    "plt.legend()"
   ]
  },
  {
   "cell_type": "code",
   "execution_count": 128,
   "metadata": {},
   "outputs": [
    {
     "data": {
      "text/plain": [
       "<matplotlib.legend.Legend at 0x82f890f10>"
      ]
     },
     "execution_count": 128,
     "metadata": {},
     "output_type": "execute_result"
    },
    {
     "data": {
      "image/png": "[encoded data removed]",
      "text/plain": [
       "<Figure size 720x504 with 1 Axes>"
      ]
     },
     "metadata": {
      "needs_background": "light"
     },
     "output_type": "display_data"
    }
   ],
   "source": [
    "q = 4\n",
    "gf = []\n",
    "N = range(1, q+2)\n",
    "for n in N:\n",
    "    gf.append(growth_func(n, q))\n",
    "        \n",
    "plt.figure(figsize=(10, 7))\n",
    "plt.plot(N, gf, label='growth function', linewidth=2)\n",
    "plt.scatter(q, 2**q, s=100, label='break point - 1', c='r')\n",
    "plt.plot(N, [2**n for n in N], label='2*N', c='r')\n",
    "\n",
    "plt.annotate('break point-1', (q, 2**q), xytext=(-50, 20), textcoords='offset points')\n",
    "plt.title('q = {}'.format(q))\n",
    "plt.legend()"
   ]
  }
 ],
 "metadata": {
  "kernelspec": {
   "display_name": "Python 3",
   "language": "python",
   "name": "python3"
  },
  "language_info": {
   "codemirror_mode": {
    "name": "ipython",
    "version": 3
   },
   "file_extension": ".py",
   "mimetype": "text/x-python",
   "name": "python",
   "nbconvert_exporter": "python",
   "pygments_lexer": "ipython3",
   "version": "3.7.4"
  }
 },
 "nbformat": 4,
 "nbformat_minor": 2
}
