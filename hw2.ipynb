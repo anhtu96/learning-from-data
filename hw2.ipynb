{
 "cells": [
  {
   "cell_type": "code",
   "execution_count": 1,
   "metadata": {},
   "outputs": [],
   "source": [
    "import numpy as np\n",
    "import matplotlib.pyplot as plt\n",
    "from tqdm import tqdm_notebook\n",
    "import seaborn as sns"
   ]
  },
  {
   "cell_type": "markdown",
   "metadata": {},
   "source": [
    "### Hoeffding inequality"
   ]
  },
  {
   "cell_type": "code",
   "execution_count": 2,
   "metadata": {},
   "outputs": [],
   "source": [
    "def flip_coins(n_flips=10, n_coins=1000):\n",
    "    \"\"\"\n",
    "    Random flip fair coins\n",
    "    \n",
    "    Inputs:\n",
    "    - n_clips: number of flips\n",
    "    - n_coins: number of coins per flip\n",
    "    \n",
    "    Return:\n",
    "    - (n_coins x n_flips) array of values 0 (tail) or 1 (head)\n",
    "    \"\"\"\n",
    "    \n",
    "    flip_vals = []\n",
    "    for i in range(n_flips):\n",
    "        flip_vals.append(np.random.randint(2, size=n_coins))\n",
    "    return np.array(flip_vals).T"
   ]
  },
  {
   "cell_type": "markdown",
   "metadata": {},
   "source": [
    "#### Question 1"
   ]
  },
  {
   "cell_type": "code",
   "execution_count": 3,
   "metadata": {},
   "outputs": [
    {
     "data": {
      "application/vnd.jupyter.widget-view+json": {
       "model_id": "ddc756f2493f4fe3b2df8c6179c357fe",
       "version_major": 2,
       "version_minor": 0
      },
      "text/plain": [
       "HBox(children=(IntProgress(value=0, max=100000), HTML(value='')))"
      ]
     },
     "metadata": {},
     "output_type": "display_data"
    },
    {
     "name": "stdout",
     "output_type": "stream",
     "text": [
      "\n",
      "Average of v1: 0.4998039999999999\n",
      "Average of vrand: 0.50014\n",
      "Average of vmin: 0.037632\n"
     ]
    }
   ],
   "source": [
    "n_times = 10**5\n",
    "v1 = []\n",
    "vrand = []\n",
    "vmin = []\n",
    "for i in tqdm_notebook(range(n_times)):\n",
    "    crand = np.random.randint(1, 1000)\n",
    "    flip_vals = flip_coins()\n",
    "    flip_mu = np.mean(flip_vals, axis=1)\n",
    "    v1.append(flip_mu[0])\n",
    "    vrand.append(flip_mu[crand])\n",
    "    vmin.append(flip_mu[np.argmin(flip_mu)])\n",
    "    \n",
    "v1 = np.array(v1)\n",
    "vrand = np.array(vrand)\n",
    "vmin = np.array(vmin)\n",
    "    \n",
    "print('Average of v1: {}'.format(np.mean(v1)))\n",
    "print('Average of vrand: {}'.format(np.mean(vrand)))\n",
    "print('Average of vmin: {}'.format(np.mean(vmin)))"
   ]
  },
  {
   "cell_type": "markdown",
   "metadata": {},
   "source": [
    "#### Question 2"
   ]
  },
  {
   "cell_type": "code",
   "execution_count": 4,
   "metadata": {},
   "outputs": [],
   "source": [
    "def probability(outcomes, mu, eps):\n",
    "    \"\"\"\n",
    "    Probability that |sample mean - bin mean| > eps\n",
    "    Inputs:\n",
    "    - outcomes: a list of true outcomes (outcome = sample mean)\n",
    "    - mu: mean of \"large bin\"\n",
    "    - eps: deviation\n",
    "    \"\"\"\n",
    "    return np.mean(np.abs(outcomes - mu) > eps)\n",
    "\n",
    "def hoeffding(eps, N):\n",
    "    \"\"\"\n",
    "    Hoeffding inequality bound given epsilon and number of samples N\n",
    "    \"\"\"\n",
    "    return 2*np.exp(-eps**2 * N)"
   ]
  },
  {
   "cell_type": "code",
   "execution_count": 5,
   "metadata": {},
   "outputs": [
    {
     "data": {
      "text/plain": [
       "[]"
      ]
     },
     "execution_count": 5,
     "metadata": {},
     "output_type": "execute_result"
    },
    {
     "data": {
      "image/png": "[encoded data removed]",
      "text/plain": [
       "<Figure size 720x432 with 1 Axes>"
      ]
     },
     "metadata": {
      "needs_background": "light"
     },
     "output_type": "display_data"
    }
   ],
   "source": [
    "eps = np.linspace(0, 1, 100)\n",
    "p1, prand, pmin = [], [], []\n",
    "hoeff = []\n",
    "for e in eps:\n",
    "    p1.append(probability(v1, .5, e))\n",
    "    prand.append(probability(vrand, .5, e))\n",
    "    pmin.append(probability(vmin, .5, e))\n",
    "    hoeff.append(hoeffding(e, 10))\n",
    "    \n",
    "plt.figure(figsize=(10,6))\n",
    "plt.plot(eps, p1, label='P1', linewidth=3)\n",
    "plt.plot(eps, prand, label='Prand')\n",
    "plt.plot(eps, pmin, label='Pmin')\n",
    "plt.plot(eps, hoeff, label='Hoeffding')\n",
    "plt.xlabel('Epsilon')\n",
    "plt.ylabel('Probability')\n",
    "plt.legend()\n",
    "plt.title('N = 10')\n",
    "plt.plot()"
   ]
  },
  {
   "cell_type": "markdown",
   "metadata": {},
   "source": [
    "### Linear Regression"
   ]
  },
  {
   "cell_type": "code",
   "execution_count": 6,
   "metadata": {},
   "outputs": [],
   "source": [
    "def generate_line():\n",
    "    \"\"\"\n",
    "    Generate a random line with corresponding coefficient and intercept\n",
    "    \"\"\"\n",
    "    \n",
    "    line_points = np.random.uniform(-1, 1, [2, 2])\n",
    "    line_coef = (line_points[1,1] - line_points[0, 1])/(line_points[1,0] - line_points[0, 0])\n",
    "    line_intercept = line_points[0,1] - line_coef*line_points[0,0]\n",
    "    return line_coef, line_intercept\n",
    "\n",
    "def generate_data(N, line_coef, line_intercept):\n",
    "    \"\"\"\n",
    "    Generate random data given number of points, a line coefficient and intercept. Generated points will be in +1/-1 class regarding their relative position to the line.\n",
    "    \n",
    "    Inputs:\n",
    "    - N: number of points to be generated\n",
    "    - line_coef: line's coefficient\n",
    "    - line_intercept: line's intercept\n",
    "    \n",
    "    Outputs: a tuple of 2 variables:\n",
    "    - X: positions of generated points\n",
    "    - y: classes of points (+1/-1)\n",
    "    \"\"\"\n",
    "    \n",
    "    X = np.random.uniform(-1, 1, [N, 2])\n",
    "    y = X[:, 1] - X[:, 0] * line_coef - line_intercept >= 0\n",
    "    y = np.where(y, 1, -1)\n",
    "    if np.abs(np.sum(y)) == len(y):\n",
    "        X, y = generate_data(N, line_coef, line_intercept)\n",
    "    return X, y"
   ]
  },
  {
   "cell_type": "code",
   "execution_count": 7,
   "metadata": {},
   "outputs": [],
   "source": [
    "class LinearRegression():\n",
    "    \"\"\"\n",
    "    Linear Regression model\n",
    "    \"\"\"\n",
    "    def __init__(self):\n",
    "        pass\n",
    "    \n",
    "    def fit(self, X, y):\n",
    "        self.w = (np.linalg.inv(X.T @ X) @ (X.T) @ y).reshape(-1,1)\n",
    "        \n",
    "    def predict(self, X):\n",
    "        return (X @ self.w).squeeze()\n",
    "    \n",
    "class PLA():\n",
    "    \"\"\"\n",
    "    Perceptron Learning Algorithm model\n",
    "    \"\"\"\n",
    "    def __init__(self):\n",
    "        pass\n",
    "    \n",
    "    def fit(self, X, y, init_w=False, w=0):\n",
    "        if init_w:\n",
    "            self.w = w\n",
    "        else:\n",
    "            self.w = np.zeros((X.shape[1], 1))\n",
    "        converged = False\n",
    "        self.n_iters = 0\n",
    "        while not converged:\n",
    "            converged = True\n",
    "            idx = np.random.permutation(len(y)) # loop through random indices of input matrix\n",
    "            for i in idx:\n",
    "                xi = X[i]\n",
    "                yi = y[i]\n",
    "                if yi * (xi @ self.w) <= 0:\n",
    "                    converged = False\n",
    "                    self.n_iters += 1\n",
    "                    self.w += (yi*xi).reshape(-1,1)\n",
    "                    \n",
    "    def predict(self, X):\n",
    "        return np.sign((X @ self.w)).squeeze()\n",
    "    \n",
    "def error(y_true, y_pred):\n",
    "    # return proportion of error\n",
    "    return np.sum(y_true != y_pred) / len(y_true)"
   ]
  },
  {
   "cell_type": "markdown",
   "metadata": {},
   "source": [
    "#### Question 5, 6"
   ]
  },
  {
   "cell_type": "code",
   "execution_count": 8,
   "metadata": {},
   "outputs": [
    {
     "name": "stdout",
     "output_type": "stream",
     "text": [
      "Average in-sample error: 0.039\n",
      "Average out-of-sample error: 0.048\n"
     ]
    }
   ],
   "source": [
    "n_runs = 1000\n",
    "N_train = 100\n",
    "N_test = 1000\n",
    "err_in = []\n",
    "err_out = []\n",
    "\n",
    "for n in range(n_runs):\n",
    "    line_coef, line_intercept = generate_line()\n",
    "    X_train, y_train = generate_data(N_train, line_coef, line_intercept)\n",
    "    X_train = np.hstack((np.ones((X_train.shape[0],1)), X_train))\n",
    "    X_test, y_test = generate_data(N_test, line_coef, line_intercept)\n",
    "    X_test = np.hstack((np.ones((X_test.shape[0],1)), X_test))\n",
    "    \n",
    "    lr = LinearRegression()\n",
    "    lr.fit(X_train, y_train)\n",
    "    pred_train = np.sign(lr.predict(X_train))\n",
    "    err_in.append(error(y_train, pred_train))\n",
    "    \n",
    "    pred_test = np.sign(lr.predict(X_test))\n",
    "    err_out.append(error(y_test, pred_test))\n",
    "    \n",
    "print('Average in-sample error: {:.3f}'.format(np.mean(err_in)))\n",
    "print('Average out-of-sample error: {:.3f}'.format(np.mean(err_out)))"
   ]
  },
  {
   "cell_type": "markdown",
   "metadata": {},
   "source": [
    "#### Question 7"
   ]
  },
  {
   "cell_type": "code",
   "execution_count": 9,
   "metadata": {},
   "outputs": [
    {
     "name": "stdout",
     "output_type": "stream",
     "text": [
      "Average of PLA iterations: 5.163\n"
     ]
    }
   ],
   "source": [
    "n_runs = 1000\n",
    "N_train = 10\n",
    "iters = []\n",
    "\n",
    "for n in range(n_runs):\n",
    "    line_coef, line_intercept = generate_line()\n",
    "    X_train, y_train = generate_data(N_train, line_coef, line_intercept)\n",
    "    X_train = np.hstack((np.ones((X_train.shape[0],1)), X_train))\n",
    "    \n",
    "    lr = LinearRegression()\n",
    "    lr.fit(X_train, y_train)\n",
    "    pla = PLA()\n",
    "    pla.fit(X_train, y_train, init_w=True, w=lr.w)\n",
    "    iters.append(pla.n_iters)\n",
    "    \n",
    "print('Average of PLA iterations: {}'.format(np.mean(iters)))"
   ]
  },
  {
   "cell_type": "markdown",
   "metadata": {},
   "source": [
    "### Non-linear transformation"
   ]
  },
  {
   "cell_type": "code",
   "execution_count": 10,
   "metadata": {},
   "outputs": [],
   "source": [
    "def target_func(X):\n",
    "    \"\"\"\n",
    "    Target function f(x1,x2) = sign(x1^2 + x2^2 - 0.6)\n",
    "    \"\"\"\n",
    "    return np.sign(X[:,0]**2+X[:,1]**2-.6)\n",
    "\n",
    "def add_noise(y, p=.1):\n",
    "    \"\"\"\n",
    "    Generate noise by randomly flipping the sign of the output with a probability p\n",
    "    \"\"\"\n",
    "    y_copy = y.copy()\n",
    "    len_noise = int(len(y)*p)\n",
    "    len_idx = np.random.choice(len(y), size=len_noise, replace=False)\n",
    "    y_copy[len_idx] *= -1\n",
    "    return y_copy\n",
    "\n",
    "def transform(X, funcs):\n",
    "    \"\"\"\n",
    "    Perform nonlinear transformation of the input X\n",
    "    Inputs:\n",
    "    - X\n",
    "    - funcs: a list of functions to perform on X's columns\n",
    "    \"\"\"\n",
    "    for f in funcs:\n",
    "        new_col = f(X).reshape(-1,1)\n",
    "        X = np.hstack((X, new_col))\n",
    "    return X"
   ]
  },
  {
   "cell_type": "markdown",
   "metadata": {},
   "source": [
    "#### Question 8"
   ]
  },
  {
   "cell_type": "code",
   "execution_count": 11,
   "metadata": {},
   "outputs": [
    {
     "name": "stdout",
     "output_type": "stream",
     "text": [
      "Average in-sample error: 0.505189\n"
     ]
    }
   ],
   "source": [
    "n_runs = 1000\n",
    "N_train = 1000\n",
    "err_in = []\n",
    "\n",
    "for n in range(n_runs):\n",
    "    X_train = np.random.uniform(-1, 1, [N_train, 2])\n",
    "    y_train = target_func(X_train)\n",
    "    y_train = add_noise(y_train, .1)\n",
    "    X_train = np.hstack((np.ones((X_train.shape[0],1)), X_train))\n",
    "    \n",
    "    lr = LinearRegression()\n",
    "    lr.fit(X_train, y_train)\n",
    "    pred = np.sign(lr.predict(X_train))\n",
    "    err_in.append(error(y_train, pred))\n",
    "    \n",
    "print('Average in-sample error: {}'.format(np.mean(err_in)))"
   ]
  },
  {
   "cell_type": "markdown",
   "metadata": {},
   "source": [
    "#### Question 9"
   ]
  },
  {
   "cell_type": "code",
   "execution_count": 12,
   "metadata": {},
   "outputs": [
    {
     "name": "stdout",
     "output_type": "stream",
     "text": [
      "Final hypothesis: (-0.99) + (-0.0 x1) + (0.0 x2) + (-0.0 x1*x2) + (1.56 x1^2) + (1.56 x2^2)\n",
      "Average out-of-sample error: 0.126145\n"
     ]
    }
   ],
   "source": [
    "transforms = [\n",
    "    lambda x: x[:,1]*x[:,2],\n",
    "    lambda x: x[:,1]**2,\n",
    "    lambda x: x[:,2]**2\n",
    "]\n",
    "\n",
    "n_runs = 1000\n",
    "N_train = 1000\n",
    "N_test = 1000\n",
    "hypotheses = []\n",
    "err_out = []\n",
    "\n",
    "for n in range(n_runs):\n",
    "    X_train = np.random.uniform(-1, 1, [N_train, 2])\n",
    "    y_train = target_func(X_train)\n",
    "    y_train = add_noise(y_train, .1)\n",
    "    X_train = np.hstack((np.ones((X_train.shape[0],1)), X_train))\n",
    "    X_train = transform(X_train, transforms)\n",
    "    \n",
    "    X_test = np.random.uniform(-1, 1, [N_test, 2])\n",
    "    y_test = target_func(X_test)\n",
    "    y_test = add_noise(y_test, .1)\n",
    "    X_test = np.hstack((np.ones((X_test.shape[0],1)), X_test))\n",
    "    X_test = transform(X_test, transforms)\n",
    "    \n",
    "    lr = LinearRegression()\n",
    "    lr.fit(X_train, y_train)\n",
    "    hypotheses.append(lr.w)\n",
    "    \n",
    "    pred = np.sign(lr.predict(X_test))\n",
    "    err_out.append(error(y_test, pred))\n",
    "    \n",
    "w_hat = np.round(np.mean(hypotheses, axis=0), decimals=2).squeeze()\n",
    "print('Final hypothesis: ({}) + ({} x1) + ({} x2) + ({} x1*x2) + ({} x1^2) + ({} x2^2)'.format(w_hat[0], w_hat[1], w_hat[2], w_hat[3], w_hat[4], w_hat[5]))\n",
    "print('Average out-of-sample error: {}'.format(np.mean(err_out)))"
   ]
  }
 ],
 "metadata": {
  "kernelspec": {
   "display_name": "Python 3",
   "language": "python",
   "name": "python3"
  },
  "language_info": {
   "codemirror_mode": {
    "name": "ipython",
    "version": 3
   },
   "file_extension": ".py",
   "mimetype": "text/x-python",
   "name": "python",
   "nbconvert_exporter": "python",
   "pygments_lexer": "ipython3",
   "version": "3.7.4"
  }
 },
 "nbformat": 4,
 "nbformat_minor": 2
}
