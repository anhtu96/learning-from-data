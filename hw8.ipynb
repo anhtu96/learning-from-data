{
 "cells": [
  {
   "cell_type": "code",
   "execution_count": 2,
   "metadata": {},
   "outputs": [],
   "source": [
    "import numpy as np\n",
    "import pandas as pd\n",
    "import matplotlib.pyplot as plt\n",
    "from sklearn.metrics import accuracy_score\n",
    "from sklearn.svm import SVC"
   ]
  },
  {
   "cell_type": "markdown",
   "metadata": {},
   "source": [
    "### Polynomial kernels"
   ]
  },
  {
   "cell_type": "code",
   "execution_count": 3,
   "metadata": {},
   "outputs": [],
   "source": [
    "train = pd.read_table('datasets/features.train', header=None, sep='  ', engine='python')\n",
    "test = pd.read_table('datasets/features.test', header=None, sep='  ', engine='python')"
   ]
  },
  {
   "cell_type": "code",
   "execution_count": 4,
   "metadata": {},
   "outputs": [
    {
     "name": "stdout",
     "output_type": "stream",
     "text": [
      "Train size: (7291, 3), test size: (2007, 3)\n"
     ]
    }
   ],
   "source": [
    "print('Train size: {}, test size: {}'.format(train.shape, test.shape))"
   ]
  },
  {
   "cell_type": "code",
   "execution_count": 5,
   "metadata": {},
   "outputs": [
    {
     "data": {
      "text/html": [
       "<div>\n",
       "<style scoped>\n",
       "    .dataframe tbody tr th:only-of-type {\n",
       "        vertical-align: middle;\n",
       "    }\n",
       "\n",
       "    .dataframe tbody tr th {\n",
       "        vertical-align: top;\n",
       "    }\n",
       "\n",
       "    .dataframe thead th {\n",
       "        text-align: right;\n",
       "    }\n",
       "</style>\n",
       "<table border=\"1\" class=\"dataframe\">\n",
       "  <thead>\n",
       "    <tr style=\"text-align: right;\">\n",
       "      <th></th>\n",
       "      <th>0</th>\n",
       "      <th>1</th>\n",
       "      <th>2</th>\n",
       "    </tr>\n",
       "  </thead>\n",
       "  <tbody>\n",
       "    <tr>\n",
       "      <td>0</td>\n",
       "      <td>6.0</td>\n",
       "      <td>0.341092</td>\n",
       "      <td>-4.528937</td>\n",
       "    </tr>\n",
       "    <tr>\n",
       "      <td>1</td>\n",
       "      <td>5.0</td>\n",
       "      <td>0.444131</td>\n",
       "      <td>-5.496812</td>\n",
       "    </tr>\n",
       "    <tr>\n",
       "      <td>2</td>\n",
       "      <td>4.0</td>\n",
       "      <td>0.231002</td>\n",
       "      <td>-2.886750</td>\n",
       "    </tr>\n",
       "    <tr>\n",
       "      <td>3</td>\n",
       "      <td>7.0</td>\n",
       "      <td>0.200275</td>\n",
       "      <td>-3.534375</td>\n",
       "    </tr>\n",
       "    <tr>\n",
       "      <td>4</td>\n",
       "      <td>3.0</td>\n",
       "      <td>0.291936</td>\n",
       "      <td>-4.352062</td>\n",
       "    </tr>\n",
       "  </tbody>\n",
       "</table>\n",
       "</div>"
      ],
      "text/plain": [
       "     0         1         2\n",
       "0  6.0  0.341092 -4.528937\n",
       "1  5.0  0.444131 -5.496812\n",
       "2  4.0  0.231002 -2.886750\n",
       "3  7.0  0.200275 -3.534375\n",
       "4  3.0  0.291936 -4.352062"
      ]
     },
     "execution_count": 5,
     "metadata": {},
     "output_type": "execute_result"
    }
   ],
   "source": [
    "train.head()"
   ]
  },
  {
   "cell_type": "code",
   "execution_count": 6,
   "metadata": {},
   "outputs": [],
   "source": [
    "X_train = np.asarray(train.loc[:,1:])\n",
    "y_train = np.asarray(train[0])\n",
    "\n",
    "X_test = np.asarray(test.loc[:,1:])\n",
    "y_test = np.asarray(test[0])"
   ]
  },
  {
   "cell_type": "code",
   "execution_count": 7,
   "metadata": {},
   "outputs": [],
   "source": [
    "def classification_error(y_true, y_pred):\n",
    "    return np.sum(y_true!=y_pred) / len(y_true)"
   ]
  },
  {
   "cell_type": "markdown",
   "metadata": {},
   "source": [
    "#### Question 2, 3"
   ]
  },
  {
   "cell_type": "code",
   "execution_count": 35,
   "metadata": {},
   "outputs": [
    {
     "name": "stdout",
     "output_type": "stream",
     "text": [
      "0-versus-all classifier: accuracy = 0.1059\n",
      "1-versus-all classifier: accuracy = 0.0144\n",
      "2-versus-all classifier: accuracy = 0.1003\n",
      "3-versus-all classifier: accuracy = 0.0902\n",
      "4-versus-all classifier: accuracy = 0.0894\n",
      "5-versus-all classifier: accuracy = 0.0763\n",
      "6-versus-all classifier: accuracy = 0.0911\n",
      "7-versus-all classifier: accuracy = 0.0885\n",
      "8-versus-all classifier: accuracy = 0.0743\n",
      "9-versus-all classifier: accuracy = 0.0883\n"
     ]
    }
   ],
   "source": [
    "models = []\n",
    "Ein_models = []\n",
    "\n",
    "for digit in range(10):\n",
    "    y_train_tmp = (y_train==digit).astype(int)\n",
    "    y_train_tmp[y_train_tmp==0] = -1\n",
    "    model = SVC(kernel='poly', C=.01, degree=2, coef0=1, gamma=1)\n",
    "    model.fit(X_train, y_train_tmp)\n",
    "    pred = model.predict(X_train)\n",
    "    Ein = classification_error(y_train_tmp, pred)\n",
    "    models.append(model)\n",
    "    Ein_models.append(Ein)\n",
    "    print('{}-versus-all classifier: accuracy = {:.4f}'.format(digit, Ein))"
   ]
  },
  {
   "cell_type": "code",
   "execution_count": 13,
   "metadata": {},
   "outputs": [
    {
     "name": "stdout",
     "output_type": "stream",
     "text": [
      "Model with highest Ein: 0-versus-all\n",
      "Model with lowest Ein: 1-versus-all\n"
     ]
    }
   ],
   "source": [
    "print('Model with highest Ein: {}-versus-all'.format(np.argmax(Ein_models)))\n",
    "print('Model with lowest Ein: {}-versus-all'.format(np.argmin(Ein_models)))"
   ]
  },
  {
   "cell_type": "markdown",
   "metadata": {},
   "source": [
    "#### Question 4"
   ]
  },
  {
   "cell_type": "code",
   "execution_count": 19,
   "metadata": {},
   "outputs": [
    {
     "name": "stdout",
     "output_type": "stream",
     "text": [
      "Difference in the number of support vectors: 1793\n"
     ]
    }
   ],
   "source": [
    "print('Difference in the number of support vectors: {}'\n",
    "     .format(np.abs(len(models[0].support_vectors_) - len(models[1].support_vectors_))))"
   ]
  },
  {
   "cell_type": "markdown",
   "metadata": {},
   "source": [
    "#### Question 5"
   ]
  },
  {
   "cell_type": "code",
   "execution_count": 37,
   "metadata": {},
   "outputs": [],
   "source": [
    "y_train_tmp = y_train[(y_train==1) | (y_train==5)]\n",
    "y_train_tmp[y_train_tmp==1] = 1\n",
    "y_train_tmp[y_train_tmp==5] = -1\n",
    "X_train_tmp = X_train[(y_train==1) | (y_train==5)]\n",
    "\n",
    "y_test_tmp = y_test[(y_test==1) | (y_test==5)]\n",
    "y_test_tmp[y_test_tmp==1] = 1\n",
    "y_test_tmp[y_test_tmp==5] = -1\n",
    "X_test_tmp = X_test[(y_test==1) | (y_test==5)]"
   ]
  },
  {
   "cell_type": "code",
   "execution_count": 22,
   "metadata": {},
   "outputs": [
    {
     "name": "stdout",
     "output_type": "stream",
     "text": [
      "Running 1-versus-5 classifier with Q = 2\n",
      "\n",
      "* C = 0.001: Ein = 0.0045, Eout = 0.0165, number of support vectors = 76\n",
      "* C = 0.01: Ein = 0.0045, Eout = 0.0189, number of support vectors = 34\n",
      "* C = 0.1: Ein = 0.0045, Eout = 0.0189, number of support vectors = 24\n",
      "* C = 1: Ein = 0.0032, Eout = 0.0189, number of support vectors = 24\n"
     ]
    }
   ],
   "source": [
    "C = [.001, .01, .1, 1]\n",
    "\n",
    "print('Running 1-versus-5 classifier with Q = 2\\n')\n",
    "for c in C:\n",
    "    model = SVC(kernel='poly', C=c, degree=2, coef0=1, gamma=1)\n",
    "    model.fit(X_train_tmp, y_train_tmp)\n",
    "    pred_train = model.predict(X_train_tmp)\n",
    "    pred_test = model.predict(X_test_tmp)\n",
    "    Ein = classification_error(y_train_tmp, pred_train)\n",
    "    Eout = classification_error(y_test_tmp, pred_test)\n",
    "    num_sv = len(model.support_vectors_)\n",
    "    print('* C = {}: Ein = {:.4f}, Eout = {:.4f}, number of support vectors = {}'.format(c, Ein, Eout, num_sv))"
   ]
  },
  {
   "cell_type": "markdown",
   "metadata": {},
   "source": [
    "#### Question 6"
   ]
  },
  {
   "cell_type": "code",
   "execution_count": 38,
   "metadata": {},
   "outputs": [
    {
     "name": "stdout",
     "output_type": "stream",
     "text": [
      "Running 1-versus-5 classifier\n",
      "\n",
      "* C = 0.0001, Q = 2: Ein = 0.00897, Eout = 0.01651, number of support vectors = 236\n",
      "* C = 0.0001, Q = 5: Ein = 0.00448, Eout = 0.01887, number of support vectors = 26\n",
      "* C = 0.001, Q = 2: Ein = 0.00448, Eout = 0.01651, number of support vectors = 76\n",
      "* C = 0.001, Q = 5: Ein = 0.00448, Eout = 0.02123, number of support vectors = 25\n",
      "* C = 0.01, Q = 2: Ein = 0.00448, Eout = 0.01887, number of support vectors = 34\n",
      "* C = 0.01, Q = 5: Ein = 0.00384, Eout = 0.02123, number of support vectors = 23\n",
      "* C = 1, Q = 2: Ein = 0.00320, Eout = 0.01887, number of support vectors = 24\n",
      "* C = 1, Q = 5: Ein = 0.00320, Eout = 0.02123, number of support vectors = 21\n"
     ]
    }
   ],
   "source": [
    "C = [.0001, .001, .01, 1]\n",
    "\n",
    "print('Running 1-versus-5 classifier\\n')\n",
    "for c in C:\n",
    "    for q in [2, 5]:\n",
    "        model = SVC(kernel='poly', C=c, degree=q, coef0=1, gamma=1)\n",
    "        model.fit(X_train_tmp, y_train_tmp)\n",
    "        pred_train = model.predict(X_train_tmp)\n",
    "        pred_test = model.predict(X_test_tmp)\n",
    "        Ein = classification_error(y_train_tmp, pred_train)\n",
    "        Eout = classification_error(y_test_tmp, pred_test)\n",
    "        num_sv = len(model.support_vectors_)\n",
    "        print('* C = {}, Q = {}: Ein = {:.5f}, Eout = {:.5f}, number of support vectors = {}'.format(c, q, Ein, Eout, num_sv))"
   ]
  },
  {
   "cell_type": "markdown",
   "metadata": {},
   "source": [
    "### Cross-validation"
   ]
  },
  {
   "cell_type": "markdown",
   "metadata": {},
   "source": [
    "#### Question 7"
   ]
  },
  {
   "cell_type": "code",
   "execution_count": 24,
   "metadata": {},
   "outputs": [],
   "source": [
    "from sklearn.model_selection import KFold"
   ]
  },
  {
   "cell_type": "code",
   "execution_count": 44,
   "metadata": {},
   "outputs": [
    {
     "name": "stdout",
     "output_type": "stream",
     "text": [
      "Model with C = 0.0001 is selected 0 times.\n",
      "Model with C = 0.001 is selected 43 times.\n",
      "Model with C = 0.01 is selected 25 times.\n",
      "Model with C = 0.1 is selected 22 times.\n",
      "Model with C = 1 is selected 10 times.\n"
     ]
    }
   ],
   "source": [
    "C = [.0001, .001, .01, .1, 1]\n",
    "folds = 10\n",
    "selected_models = []\n",
    "test_cv = []\n",
    "\n",
    "for n in range(100):\n",
    "    Ecv_models = []\n",
    "    kf = KFold(n_splits=folds, shuffle=True)\n",
    "    for c in C:\n",
    "        Ecv_folds = []\n",
    "        for train_idx, val_idx in kf.split(X_train_tmp, y_train_tmp):\n",
    "            model = SVC(C=c, kernel='poly', degree=2, gamma=1, coef0=1)\n",
    "            model.fit(X_train_tmp[train_idx], y_train_tmp[train_idx])\n",
    "            pred = model.predict(X_train_tmp[val_idx])\n",
    "            Ecv_folds.append(classification_error(y_train_tmp[val_idx], pred))\n",
    "        Ecv_models.append(np.mean(Ecv_folds))\n",
    "    selected_models.append(np.argmin(Ecv_models))\n",
    "    \n",
    "for m in range(len(C)):\n",
    "    print('Model with C = {} is selected {} times.'.format(C[m], selected_models.count(m)))"
   ]
  },
  {
   "cell_type": "markdown",
   "metadata": {},
   "source": [
    "#### Question 8"
   ]
  },
  {
   "cell_type": "code",
   "execution_count": 60,
   "metadata": {},
   "outputs": [
    {
     "name": "stdout",
     "output_type": "stream",
     "text": [
      "Average Ecv: 0.0048\n"
     ]
    }
   ],
   "source": [
    "Ecvs = []\n",
    "for n in range(100):\n",
    "    kf = KFold(n_splits=10, shuffle=True)\n",
    "    Ecv_folds = []\n",
    "    for train_idx, val_idx in kf.split(X_train_tmp, y_train_tmp):\n",
    "        model = SVC(C=.001, kernel='poly', degree=2, coef0=1, gamma=1)\n",
    "        model.fit(X_train_tmp[train_idx], y_train_tmp[train_idx])\n",
    "        pred = model.predict(X_train_tmp[val_idx])\n",
    "        Ecv_folds.append(classification_error(y_train_tmp[val_idx], pred))\n",
    "    Ecvs.append(np.mean(Ecv_folds))\n",
    "    \n",
    "print('Average Ecv: {:.4f}'.format(np.mean(Ecvs)))"
   ]
  },
  {
   "cell_type": "markdown",
   "metadata": {},
   "source": [
    "### RBF kernel\n",
    "#### Question 9, 10"
   ]
  },
  {
   "cell_type": "code",
   "execution_count": 62,
   "metadata": {},
   "outputs": [
    {
     "name": "stdout",
     "output_type": "stream",
     "text": [
      "Model with C = 0.01: Ein = 0.0038, Eout = 0.0236\n",
      "Model with C = 1: Ein = 0.0045, Eout = 0.0212\n",
      "Model with C = 100: Ein = 0.0032, Eout = 0.0189\n",
      "Model with C = 10000: Ein = 0.0026, Eout = 0.0236\n",
      "Model with C = 1000000: Ein = 0.0006, Eout = 0.0236\n"
     ]
    }
   ],
   "source": [
    "C = [.01, 1, 100, 10**4, 10**6]\n",
    "\n",
    "for c in C:\n",
    "    model = SVC(kernel='rbf', C=c, degree=2, gamma=1)\n",
    "    model.fit(X_train_tmp, y_train_tmp)\n",
    "    pred_train = model.predict(X_train_tmp)\n",
    "    pred_test = model.predict(X_test_tmp)\n",
    "    Ein = classification_error(y_train_tmp, pred_train)\n",
    "    Eout = classification_error(y_test_tmp, pred_test)\n",
    "    print('Model with C = {}: Ein = {:.4f}, Eout = {:.4f}'.format(c, Ein, Eout))"
   ]
  }
 ],
 "metadata": {
  "kernelspec": {
   "display_name": "Python 3",
   "language": "python",
   "name": "python3"
  },
  "language_info": {
   "codemirror_mode": {
    "name": "ipython",
    "version": 3
   },
   "file_extension": ".py",
   "mimetype": "text/x-python",
   "name": "python",
   "nbconvert_exporter": "python",
   "pygments_lexer": "ipython3",
   "version": "3.7.6"
  }
 },
 "nbformat": 4,
 "nbformat_minor": 2
}
