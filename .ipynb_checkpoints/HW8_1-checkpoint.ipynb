{
 "cells": [
  {
   "cell_type": "markdown",
   "metadata": {},
   "source": [
    "# Homework 8\n",
    "## Primal versus Dual Problem\n",
    "### Question 1\n",
    "Recall that $N$ is the size of the data set and $d$ is the dimensionality of the input space. The original formulation of the hard-margin SVM problem (minimize $\\frac{1}{2}\\mathbf w^T\\mathbf w$ subject to the inequality constraints), without going through the Lagrangian dual problem, is"
   ]
  },
  {
   "cell_type": "markdown",
   "metadata": {},
   "source": [
    "**Answer**: Recall that the set-up of the QP problem is given by\n",
    "$\\newcommand{\\R}{\\mathbb{R}}$\n",
    "$$\n",
    "min_{u \\in \\R^L} \\ \\ \\frac{1}{2}\\mathbf u^TQ\\mathbf u + \\mathbf p^T\\mathbf u\n",
    "$$\n",
    "$$\n",
    "\\text{s.t. }\\ \\ A\\mathbf u \\geq c\n",
    "$$\n",
    "where we want to solve for $\\mathbf u$ which is defined as $\\mathbf u=[b\\ \\ \\mathbf w]^T$. Since $\\mathbf u \\in \\R^{d+1}$ then we have a QP problem with $d+1$ variables.  \n",
    "Answer is (d)."
   ]
  },
  {
   "cell_type": "markdown",
   "metadata": {},
   "source": [
    "## SVM with Soft Margins\n",
    "In the rest of the problems of this homework set, we apply soft-margin SVM to handwritten digits from the processed US Postal Service Zip Code data set. Download the data (extracted features of intensity and symmetry) for training and testing:  \n",
    "http://www.amlbook.com/data/zip/features.train  \n",
    "http://www.amlbook.com/data/zip/features.test  \n",
    "(the format of each row is: digit intensity symmetry). We will train two types of binary classifiers; one-versus-one (one digit is class +1 and another digit is class -1, with the rest of the digits disregarded), and one-versus-all (one digit is class +1 and the rest of the digits are class -1). The data set has thousands of points, and some quadratic programming packages cannot handle this size. We recommend that you use the packages in libsvm:  \n",
    "http://www.csie.ntu.edu.tw/~cjlin/libsvm/  \n",
    "\n",
    "Implement SVM with soft margin on the above zip-code data set by solving\n",
    "$$\n",
    "min_{\\alpha}\\ \\ \\frac{1}{2}\\sum_{m=1}^{N}\\sum_{n=1}^{N} \\alpha_n\\alpha_my_ny_mK(\\mathbf x_n,\\mathbf x_m) - \\sum_{n=1}^{N} \\alpha_n\n",
    "$$\n",
    "$$\n",
    "\\text{subject to:  }\\ \\ \\sum_{n=1}^{N} y_n\\alpha_n= 0 \n",
    "$$\n",
    "$$\n",
    "0 \\leq \\alpha_n \\leq C \\ \\ n=1,...,N\n",
    "$$\n",
    "\n",
    "When evaluating $E_{in}$ and $E_{out}$ of the resulting classifier, use binary classification error. Practical remarks:  \n",
    "1. For the purpose of this homework, do not scale the data when you use `libsvm` or other packages, otherwise you may inadvertently change the (effective) kernel and get different results.  \n",
    "2. In some packages, you need to specify double precision.\n",
    "3. In 10-fold cross validation, if the data size is not a multiple of 10, the sizes of the 10 subsets may be off by 1 data point.  \n",
    "4. Some packages have software parameters whose values affect the outcome. ML practitioners have to deal with this kind of added uncertainty."
   ]
  },
  {
   "cell_type": "code",
   "execution_count": 1,
   "metadata": {
    "collapsed": true
   },
   "outputs": [],
   "source": [
    "import numpy as np\n",
    "import pandas as pd\n",
    "import matplotlib.pyplot as plt\n",
    "%config InlineBackend.figure_format = 'retina'\n",
    "from sklearn.svm import SVC # SVC implementation is based on libsvm"
   ]
  },
  {
   "cell_type": "markdown",
   "metadata": {},
   "source": [
    "Import the data and check whether the structure is OK."
   ]
  },
  {
   "cell_type": "code",
   "execution_count": 2,
   "metadata": {},
   "outputs": [
    {
     "name": "stdout",
     "output_type": "stream",
     "text": [
      "The dimensions of the train data sample is : (7291, 3)\n",
      "The dimensions of the test data sample is : (2007, 3)\n"
     ]
    }
   ],
   "source": [
    "train = np.loadtxt('Data/hw8_train.txt')\n",
    "test = np.loadtxt('Data/h8_test.txt')\n",
    "N = train.shape[0] # number of examples in train set\n",
    "Nt = test.shape[0] # number of examples in test set\n",
    "print('The dimensions of the train data sample is :',train.shape)\n",
    "print('The dimensions of the test data sample is :',test.shape)"
   ]
  },
  {
   "cell_type": "markdown",
   "metadata": {},
   "source": [
    "Data is structured as follows: digit - intensity - symmetry. So let's get our $X$ and $y$ out for easier handling, from both train and test sets."
   ]
  },
  {
   "cell_type": "code",
   "execution_count": 3,
   "metadata": {
    "collapsed": true
   },
   "outputs": [],
   "source": [
    "X = train[:,1:]\n",
    "y = train[:,0]\n",
    "Xt = test[:,1:]\n",
    "yt = test[:,0]"
   ]
  },
  {
   "cell_type": "code",
   "execution_count": 4,
   "metadata": {},
   "outputs": [
    {
     "data": {
      "text/html": [
       "<div>\n",
       "<style scoped>\n",
       "    .dataframe tbody tr th:only-of-type {\n",
       "        vertical-align: middle;\n",
       "    }\n",
       "\n",
       "    .dataframe tbody tr th {\n",
       "        vertical-align: top;\n",
       "    }\n",
       "\n",
       "    .dataframe thead th {\n",
       "        text-align: right;\n",
       "    }\n",
       "</style>\n",
       "<table border=\"1\" class=\"dataframe\">\n",
       "  <thead>\n",
       "    <tr style=\"text-align: right;\">\n",
       "      <th></th>\n",
       "      <th>Examples</th>\n",
       "    </tr>\n",
       "  </thead>\n",
       "  <tbody>\n",
       "    <tr>\n",
       "      <th>0.0</th>\n",
       "      <td>1194</td>\n",
       "    </tr>\n",
       "    <tr>\n",
       "      <th>1.0</th>\n",
       "      <td>1005</td>\n",
       "    </tr>\n",
       "    <tr>\n",
       "      <th>2.0</th>\n",
       "      <td>731</td>\n",
       "    </tr>\n",
       "    <tr>\n",
       "      <th>6.0</th>\n",
       "      <td>664</td>\n",
       "    </tr>\n",
       "    <tr>\n",
       "      <th>3.0</th>\n",
       "      <td>658</td>\n",
       "    </tr>\n",
       "    <tr>\n",
       "      <th>4.0</th>\n",
       "      <td>652</td>\n",
       "    </tr>\n",
       "    <tr>\n",
       "      <th>7.0</th>\n",
       "      <td>645</td>\n",
       "    </tr>\n",
       "    <tr>\n",
       "      <th>9.0</th>\n",
       "      <td>644</td>\n",
       "    </tr>\n",
       "    <tr>\n",
       "      <th>5.0</th>\n",
       "      <td>556</td>\n",
       "    </tr>\n",
       "    <tr>\n",
       "      <th>8.0</th>\n",
       "      <td>542</td>\n",
       "    </tr>\n",
       "  </tbody>\n",
       "</table>\n",
       "</div>"
      ],
      "text/plain": [
       "     Examples\n",
       "0.0      1194\n",
       "1.0      1005\n",
       "2.0       731\n",
       "6.0       664\n",
       "3.0       658\n",
       "4.0       652\n",
       "7.0       645\n",
       "9.0       644\n",
       "5.0       556\n",
       "8.0       542"
      ]
     },
     "execution_count": 4,
     "metadata": {},
     "output_type": "execute_result"
    }
   ],
   "source": [
    "df = pd.DataFrame(np.column_stack([X,y]))\n",
    "df.columns = ['intensity', 'symmetry', 'y']\n",
    "cnt_digits = pd.DataFrame(pd.value_counts(df['y']))\n",
    "cnt_digits.columns = ['Examples']\n",
    "cnt_digits"
   ]
  },
  {
   "cell_type": "markdown",
   "metadata": {},
   "source": [
    "Define a function to *re-classify* the target wrt one-vs-all condition."
   ]
  },
  {
   "cell_type": "code",
   "execution_count": 5,
   "metadata": {
    "collapsed": true
   },
   "outputs": [],
   "source": [
    "def one_vs_all(y,d):\n",
    "    '''\n",
    "    Inputs:\n",
    "        y - input target vector\n",
    "        d - digit\n",
    "    Output:\n",
    "        yn - (1) for all target equal to d and (-1) otherwise\n",
    "    '''\n",
    "    yn = np.zeros(len(y))\n",
    "    \n",
    "    for k in range(len(y)):\n",
    "        if (y[k] == d):\n",
    "            yn[k] = 1\n",
    "        else:\n",
    "            yn[k] = -1\n",
    "\n",
    "    return yn"
   ]
  },
  {
   "cell_type": "code",
   "execution_count": 6,
   "metadata": {
    "collapsed": true
   },
   "outputs": [],
   "source": [
    "def one_vs_one(X,y,d1,d2):\n",
    "    '''\n",
    "    Inputs:\n",
    "        y - input target vector\n",
    "        d1 - first digit\n",
    "        d2 - second digit\n",
    "    Output:\n",
    "        yn - (1) for all target equal to d1; \n",
    "             (-1) for all target equal to d1; \n",
    "             (0) otherwise\n",
    "    '''\n",
    "    yn = np.zeros(len(y))\n",
    "    \n",
    "    for k in range(len(y)):\n",
    "        if (y[k] == d1):\n",
    "            yn[k] = 1\n",
    "        else:\n",
    "            if (y[k] == d2):\n",
    "                yn[k] = -1\n",
    "            else:\n",
    "                yn[k] = 0\n",
    "    \n",
    "    XY = np.column_stack([yn,X])\n",
    "    XY = XY[XY[:,0] != 0,:]\n",
    "    X = XY[:,1:]\n",
    "    y = XY[:,0]\n",
    "    \n",
    "    return X,y"
   ]
  },
  {
   "cell_type": "markdown",
   "metadata": {},
   "source": [
    "## Polynomial Kernels\n",
    "Consider the polynomial kernel $K(x_n, x_m) = (1 + x_n^Tx_m)^Q$, where $Q$ is the degree of the polynomial.\n",
    "### Question 2\n",
    "With $C = 0.01$ and $Q = 2$, which of the following classifiers has the highest $E_{in}$?\n",
    "\n",
    "**Answer**:\n",
    "These are the options for kernel in `SVC` library `{‘linear’, ‘rbf’, ‘poly’, ‘sigmoid’, ‘precomputed’}`."
   ]
  },
  {
   "cell_type": "code",
   "execution_count": 7,
   "metadata": {
    "collapsed": true
   },
   "outputs": [],
   "source": [
    "C = 0.01 # SVM regularization parameter\n",
    "Q = 2 # polynomial degree\n",
    "\n",
    "digit = []\n",
    "Ein = []\n",
    "sv = []\n",
    "for i in range(10): # run for each digit vs all data set\n",
    "    digit.append(i)\n",
    "    d = i\n",
    "    yd = one_vs_all(y,d)\n",
    "    poly_m = SVC(kernel = 'poly', degree = Q, gamma = 1, coef0 = 1, C=C)\n",
    "    poly_m = poly_m.fit(X,yd)\n",
    "    sv.append(np.sum(poly_m.n_support_))\n",
    "    g_poly = poly_m.predict(X)\n",
    "    \n",
    "    Ein.append(np.count_nonzero(g_poly - yd)/N)"
   ]
  },
  {
   "cell_type": "code",
   "execution_count": 8,
   "metadata": {},
   "outputs": [
    {
     "data": {
      "text/html": [
       "<div>\n",
       "<style scoped>\n",
       "    .dataframe tbody tr th:only-of-type {\n",
       "        vertical-align: middle;\n",
       "    }\n",
       "\n",
       "    .dataframe tbody tr th {\n",
       "        vertical-align: top;\n",
       "    }\n",
       "\n",
       "    .dataframe thead th {\n",
       "        text-align: right;\n",
       "    }\n",
       "</style>\n",
       "<table border=\"1\" class=\"dataframe\">\n",
       "  <thead>\n",
       "    <tr style=\"text-align: right;\">\n",
       "      <th></th>\n",
       "      <th>Ein</th>\n",
       "      <th>SuppVec</th>\n",
       "      <th>digit</th>\n",
       "    </tr>\n",
       "  </thead>\n",
       "  <tbody>\n",
       "    <tr>\n",
       "      <th>0</th>\n",
       "      <td>0.105884</td>\n",
       "      <td>2179</td>\n",
       "      <td>0</td>\n",
       "    </tr>\n",
       "    <tr>\n",
       "      <th>1</th>\n",
       "      <td>0.014401</td>\n",
       "      <td>386</td>\n",
       "      <td>1</td>\n",
       "    </tr>\n",
       "    <tr>\n",
       "      <th>2</th>\n",
       "      <td>0.100261</td>\n",
       "      <td>1970</td>\n",
       "      <td>2</td>\n",
       "    </tr>\n",
       "    <tr>\n",
       "      <th>3</th>\n",
       "      <td>0.090248</td>\n",
       "      <td>1950</td>\n",
       "      <td>3</td>\n",
       "    </tr>\n",
       "    <tr>\n",
       "      <th>4</th>\n",
       "      <td>0.089425</td>\n",
       "      <td>1856</td>\n",
       "      <td>4</td>\n",
       "    </tr>\n",
       "    <tr>\n",
       "      <th>5</th>\n",
       "      <td>0.076258</td>\n",
       "      <td>1585</td>\n",
       "      <td>5</td>\n",
       "    </tr>\n",
       "    <tr>\n",
       "      <th>6</th>\n",
       "      <td>0.091071</td>\n",
       "      <td>1893</td>\n",
       "      <td>6</td>\n",
       "    </tr>\n",
       "    <tr>\n",
       "      <th>7</th>\n",
       "      <td>0.088465</td>\n",
       "      <td>1704</td>\n",
       "      <td>7</td>\n",
       "    </tr>\n",
       "    <tr>\n",
       "      <th>8</th>\n",
       "      <td>0.074338</td>\n",
       "      <td>1776</td>\n",
       "      <td>8</td>\n",
       "    </tr>\n",
       "    <tr>\n",
       "      <th>9</th>\n",
       "      <td>0.088328</td>\n",
       "      <td>1978</td>\n",
       "      <td>9</td>\n",
       "    </tr>\n",
       "  </tbody>\n",
       "</table>\n",
       "</div>"
      ],
      "text/plain": [
       "        Ein  SuppVec  digit\n",
       "0  0.105884     2179      0\n",
       "1  0.014401      386      1\n",
       "2  0.100261     1970      2\n",
       "3  0.090248     1950      3\n",
       "4  0.089425     1856      4\n",
       "5  0.076258     1585      5\n",
       "6  0.091071     1893      6\n",
       "7  0.088465     1704      7\n",
       "8  0.074338     1776      8\n",
       "9  0.088328     1978      9"
      ]
     },
     "execution_count": 8,
     "metadata": {},
     "output_type": "execute_result"
    }
   ],
   "source": [
    "dt = {'digit':digit, 'Ein':Ein, 'SuppVec': sv}\n",
    "df = pd.DataFrame(data = dt)\n",
    "df"
   ]
  },
  {
   "cell_type": "code",
   "execution_count": 9,
   "metadata": {},
   "outputs": [
    {
     "data": {
      "text/plain": [
       "Ein           0.105884\n",
       "SuppVec    2179.000000\n",
       "digit         0.000000\n",
       "Name: 0, dtype: float64"
      ]
     },
     "execution_count": 9,
     "metadata": {},
     "output_type": "execute_result"
    }
   ],
   "source": [
    "# Get the highest Ein\n",
    "Ein_max = df.loc[df['Ein'].idxmax()]\n",
    "Ein_max"
   ]
  },
  {
   "cell_type": "markdown",
   "metadata": {},
   "source": [
    "Digit 0 has the highest $E_{in}$ in 0 vs all set-up.  \n",
    "Answer is (a)."
   ]
  },
  {
   "cell_type": "markdown",
   "metadata": {},
   "source": [
    "Let's plot the data for structure visualization"
   ]
  },
  {
   "cell_type": "markdown",
   "metadata": {},
   "source": [
    "### Question 3\n",
    "With $C = 0.01$ and $Q = 2$, which of the following classifiers has the lowest $E_{in}$?"
   ]
  },
  {
   "cell_type": "code",
   "execution_count": 10,
   "metadata": {},
   "outputs": [
    {
     "data": {
      "text/plain": [
       "Ein          0.014401\n",
       "SuppVec    386.000000\n",
       "digit        1.000000\n",
       "Name: 1, dtype: float64"
      ]
     },
     "execution_count": 10,
     "metadata": {},
     "output_type": "execute_result"
    }
   ],
   "source": [
    "# Get the lowest Ein\n",
    "Ein_min = df.loc[df['Ein'].idxmin()]\n",
    "Ein_min"
   ]
  },
  {
   "cell_type": "markdown",
   "metadata": {},
   "source": [
    "Digit 1 has the lowest $E_{in}$ in 1 vs all set-up.  \n",
    "Answer is (a)."
   ]
  },
  {
   "cell_type": "markdown",
   "metadata": {},
   "source": [
    "### Question 4\n",
    "Comparing the two selected classifiers from Problems 2 and 3, which of the\n",
    "following values is the closest to the difference between the number of support vectors of these two classifiers?"
   ]
  },
  {
   "cell_type": "code",
   "execution_count": 11,
   "metadata": {},
   "outputs": [
    {
     "name": "stdout",
     "output_type": "stream",
     "text": [
      "The closest to the difference between the number of SVs of the two classifiers is 1800\n"
     ]
    }
   ],
   "source": [
    "sv_diff = Ein_min[1]-Ein_max[1]\n",
    "print('The closest to the difference between the number of SVs of the two classifiers is', \n",
    "      min([600, 1200, 1800, 2400, 3000], key=lambda x:abs(x-abs(sv_diff))))"
   ]
  },
  {
   "cell_type": "markdown",
   "metadata": {},
   "source": [
    "Answer is (c)."
   ]
  },
  {
   "cell_type": "markdown",
   "metadata": {},
   "source": [
    "### Question 5\n",
    "\n",
    "Consider the 1 versus 5 classifier with $Q = 2$ and $C \\in \\{0.001, 0.01, 0.1, 1\\}$. Which of the following statements is correct? Going up or down means strictly so."
   ]
  },
  {
   "cell_type": "markdown",
   "metadata": {},
   "source": [
    "**Answer**: First we need to adjust the data since we are considering *one-vs-one* data structure for the target and neglecting all other data points. We first use the function `one_to_one` to get the desired initial target and then reduce the data set to data points that only have a specified legitimate target, i.e. $\\{-1,1\\}$.  \n",
    "For each value of $C$ we need the information on:\n",
    "- number of support vectors. \n",
    "- $E_{out}$\n",
    "- $E_{in}$\n",
    "\n",
    "We will use `SVC` from `scikit` library. The inputs and properties of class `sklearn.svm.SVC` can be found at http://scikit-learn.org/stable/modules/generated/sklearn.svm.SVC.html#sklearn.svm.SVC."
   ]
  },
  {
   "cell_type": "code",
   "execution_count": 12,
   "metadata": {
    "collapsed": true
   },
   "outputs": [],
   "source": [
    "def oo_svc(X,y,Xt,yt,C,Q,d1,d2):\n",
    "    Xn,yn = one_vs_one(X,y,d1, d2)\n",
    "    print('Train data dimensions for digits',d1,'and',d2,'are',Xn.shape)\n",
    "    Xtn,ytn = one_vs_one(Xt,yt,d1, d2)\n",
    "    print('Test data dimensions for digits',d1,'and',d2,'are',Xtn.shape)\n",
    "    # Get 1st dimension of train test\n",
    "    Nn = Xn.shape[0]\n",
    "    Nnt = Xtn.shape[0]\n",
    "\n",
    "    Ein = []\n",
    "    Eout = []\n",
    "    sv = []\n",
    "\n",
    "    for c in C: # run for each C value\n",
    "        poly_m = SVC(kernel = 'poly', degree = Q, gamma = 1, coef0 = 1,C=c)\n",
    "        poly_m = poly_m.fit(Xn,yn)\n",
    "\n",
    "        # Support vectors\n",
    "        sv.append(np.sum(poly_m.n_support_))\n",
    "    \n",
    "        # Ein\n",
    "        g_poly = poly_m.predict(Xn)\n",
    "        Ein.append(np.count_nonzero(g_poly - yn)/Nn)\n",
    "    \n",
    "        #Eout\n",
    "        g_poly_t = poly_m.predict(Xtn)\n",
    "        Eout.append(np.count_nonzero(g_poly_t - ytn)/Nnt)\n",
    "            \n",
    "    dt = {'C':C, 'SuppVec': sv, 'Ein':Ein, 'Eout':Eout}\n",
    "    df = pd.DataFrame(data = dt)\n",
    "    df = df[['C', 'SuppVec', 'Ein', 'Eout']]\n",
    "    \n",
    "    return df"
   ]
  },
  {
   "cell_type": "code",
   "execution_count": 13,
   "metadata": {},
   "outputs": [
    {
     "name": "stdout",
     "output_type": "stream",
     "text": [
      "Train data dimensions for digits 1 and 5 are (1561, 2)\n",
      "Test data dimensions for digits 1 and 5 are (424, 2)\n"
     ]
    },
    {
     "data": {
      "text/html": [
       "<div>\n",
       "<style scoped>\n",
       "    .dataframe tbody tr th:only-of-type {\n",
       "        vertical-align: middle;\n",
       "    }\n",
       "\n",
       "    .dataframe tbody tr th {\n",
       "        vertical-align: top;\n",
       "    }\n",
       "\n",
       "    .dataframe thead th {\n",
       "        text-align: right;\n",
       "    }\n",
       "</style>\n",
       "<table border=\"1\" class=\"dataframe\">\n",
       "  <thead>\n",
       "    <tr style=\"text-align: right;\">\n",
       "      <th></th>\n",
       "      <th>C</th>\n",
       "      <th>SuppVec</th>\n",
       "      <th>Ein</th>\n",
       "      <th>Eout</th>\n",
       "    </tr>\n",
       "  </thead>\n",
       "  <tbody>\n",
       "    <tr>\n",
       "      <th>0</th>\n",
       "      <td>0.0001</td>\n",
       "      <td>236</td>\n",
       "      <td>0.008969</td>\n",
       "      <td>0.016509</td>\n",
       "    </tr>\n",
       "    <tr>\n",
       "      <th>1</th>\n",
       "      <td>0.0010</td>\n",
       "      <td>76</td>\n",
       "      <td>0.004484</td>\n",
       "      <td>0.016509</td>\n",
       "    </tr>\n",
       "    <tr>\n",
       "      <th>2</th>\n",
       "      <td>0.0100</td>\n",
       "      <td>34</td>\n",
       "      <td>0.004484</td>\n",
       "      <td>0.018868</td>\n",
       "    </tr>\n",
       "    <tr>\n",
       "      <th>3</th>\n",
       "      <td>0.1000</td>\n",
       "      <td>24</td>\n",
       "      <td>0.004484</td>\n",
       "      <td>0.018868</td>\n",
       "    </tr>\n",
       "    <tr>\n",
       "      <th>4</th>\n",
       "      <td>1.0000</td>\n",
       "      <td>24</td>\n",
       "      <td>0.003203</td>\n",
       "      <td>0.018868</td>\n",
       "    </tr>\n",
       "  </tbody>\n",
       "</table>\n",
       "</div>"
      ],
      "text/plain": [
       "        C  SuppVec       Ein      Eout\n",
       "0  0.0001      236  0.008969  0.016509\n",
       "1  0.0010       76  0.004484  0.016509\n",
       "2  0.0100       34  0.004484  0.018868\n",
       "3  0.1000       24  0.004484  0.018868\n",
       "4  1.0000       24  0.003203  0.018868"
      ]
     },
     "execution_count": 13,
     "metadata": {},
     "output_type": "execute_result"
    }
   ],
   "source": [
    "C = [0.0001, 0.001, 0.01, 0.1, 1]\n",
    "Q = 2\n",
    "d1 = 1 # digit 1 \n",
    "d2 = 5 # digit 5\n",
    "\n",
    "oo_svc(X,y,Xt,yt,C,Q,d1,d2)"
   ]
  },
  {
   "cell_type": "markdown",
   "metadata": {},
   "source": [
    "**Answer**: From above table we see that the support vectors are not strictly decreasing with increasing C, so we can eliminate answers (a) and (b). With increasing $C$, $E_{out}$ is not decreasing hence we eliminate (c). The lowest $E_{in}$ is at the maximum $C$ hence, the answer is (d)."
   ]
  },
  {
   "cell_type": "markdown",
   "metadata": {},
   "source": [
    "### Question 6\n",
    "In the 1 versus 5 classifier, comparing $Q = 2$ with $Q = 5$, which of the following statements is correct?"
   ]
  },
  {
   "cell_type": "code",
   "execution_count": 14,
   "metadata": {},
   "outputs": [
    {
     "name": "stdout",
     "output_type": "stream",
     "text": [
      "Train data dimensions for digits 1 and 5 are (1561, 2)\n",
      "Test data dimensions for digits 1 and 5 are (424, 2)\n"
     ]
    },
    {
     "data": {
      "text/html": [
       "<div>\n",
       "<style scoped>\n",
       "    .dataframe tbody tr th:only-of-type {\n",
       "        vertical-align: middle;\n",
       "    }\n",
       "\n",
       "    .dataframe tbody tr th {\n",
       "        vertical-align: top;\n",
       "    }\n",
       "\n",
       "    .dataframe thead th {\n",
       "        text-align: right;\n",
       "    }\n",
       "</style>\n",
       "<table border=\"1\" class=\"dataframe\">\n",
       "  <thead>\n",
       "    <tr style=\"text-align: right;\">\n",
       "      <th></th>\n",
       "      <th>C</th>\n",
       "      <th>SuppVec</th>\n",
       "      <th>Ein</th>\n",
       "      <th>Eout</th>\n",
       "    </tr>\n",
       "  </thead>\n",
       "  <tbody>\n",
       "    <tr>\n",
       "      <th>0</th>\n",
       "      <td>0.0001</td>\n",
       "      <td>26</td>\n",
       "      <td>0.004484</td>\n",
       "      <td>0.018868</td>\n",
       "    </tr>\n",
       "    <tr>\n",
       "      <th>1</th>\n",
       "      <td>0.0010</td>\n",
       "      <td>25</td>\n",
       "      <td>0.004484</td>\n",
       "      <td>0.021226</td>\n",
       "    </tr>\n",
       "    <tr>\n",
       "      <th>2</th>\n",
       "      <td>0.0100</td>\n",
       "      <td>23</td>\n",
       "      <td>0.003844</td>\n",
       "      <td>0.021226</td>\n",
       "    </tr>\n",
       "    <tr>\n",
       "      <th>3</th>\n",
       "      <td>0.1000</td>\n",
       "      <td>25</td>\n",
       "      <td>0.003203</td>\n",
       "      <td>0.018868</td>\n",
       "    </tr>\n",
       "    <tr>\n",
       "      <th>4</th>\n",
       "      <td>1.0000</td>\n",
       "      <td>21</td>\n",
       "      <td>0.003203</td>\n",
       "      <td>0.021226</td>\n",
       "    </tr>\n",
       "  </tbody>\n",
       "</table>\n",
       "</div>"
      ],
      "text/plain": [
       "        C  SuppVec       Ein      Eout\n",
       "0  0.0001       26  0.004484  0.018868\n",
       "1  0.0010       25  0.004484  0.021226\n",
       "2  0.0100       23  0.003844  0.021226\n",
       "3  0.1000       25  0.003203  0.018868\n",
       "4  1.0000       21  0.003203  0.021226"
      ]
     },
     "execution_count": 14,
     "metadata": {},
     "output_type": "execute_result"
    }
   ],
   "source": [
    "C = [0.0001, 0.001, 0.01, 0.1, 1]\n",
    "Q = 5\n",
    "d1 = 1\n",
    "d2 = 5\n",
    "\n",
    "oo_svc(X,y,Xt,yt,C,Q,d1,d2)"
   ]
  },
  {
   "cell_type": "markdown",
   "metadata": {},
   "source": [
    "**Answer**: Comparing these results with results of the previous problem we can see that the answer is (b)."
   ]
  },
  {
   "cell_type": "markdown",
   "metadata": {},
   "source": [
    "## Cross Validation\n",
    "In the next two problems, we will experiment with 10-fold cross validation for the polynomial kernel. Because $E_{cv}$ is a random variable that depends on the random partition of the data, we will try 100 runs with different partitions and base our answer on how many runs lead to a particular choice.\n",
    "### Question 7\n",
    "Consider the 1 versus 5 classifier with $Q = 2$. We use $E_{cv}$ to select $C \\in \\{0.0001, 0.001, 0.01, 0.1, 1\\}$. If there is a tie in $E_{cv}$, select the smaller C. Within the 100 random runs, which of the following statements is correct?"
   ]
  },
  {
   "cell_type": "code",
   "execution_count": 22,
   "metadata": {},
   "outputs": [],
   "source": [
    "from sklearn.cross_validation import KFold"
   ]
  },
  {
   "cell_type": "code",
   "execution_count": 16,
   "metadata": {
    "collapsed": true
   },
   "outputs": [],
   "source": [
    "def choose_C(X,y,d1,d2,k,C,Q,no_trials):\n",
    "    \n",
    "    Xn, yn = one_vs_one(X,y,d1, d2)\n",
    "    \n",
    "    Ecv_t = []\n",
    "    for i in range(no_trials):\n",
    "        kf = KFold(Xn.shape[0],n_folds = k, shuffle = True)\n",
    "        \n",
    "        Ecv = []\n",
    "        for c in C:\n",
    "        \n",
    "            ecv = [] \n",
    "            for train_id, val_id in kf:\n",
    "                #print(\"TRAIN:\", train_id, \"TEST:\", val_id)\n",
    "                Xnt, ynt = Xn[train_id], yn[train_id]            \n",
    "                Xnv, ynv = Xn[val_id], yn[val_id]\n",
    "                \n",
    "                Nnv = Xnv.shape[0]\n",
    "            \n",
    "                m = SVC(kernel = 'poly', degree = Q, gamma = 1, coef0 = 1, C=c)\n",
    "                m = m.fit(Xnt,ynt)\n",
    "                \n",
    "                # Compute error\n",
    "                gv = m.predict(Xnv)\n",
    "                ecv.append(np.count_nonzero(gv - ynv)/Nnv)\n",
    "\n",
    "            Ecv.append(np.mean(ecv))\n",
    "        \n",
    "        dt = {'C':C, 'Ecv':Ecv}\n",
    "        df = pd.DataFrame(data = dt)\n",
    "        Ecv_t.append(df.loc[df['Ecv'].idxmin()].values)\n",
    "\n",
    "    dfC = pd.DataFrame(Ecv_t)\n",
    "    dfC.columns = ['C', 'Ecv']\n",
    "    cnt_C = pd.DataFrame(pd.value_counts(dfC['C']))\n",
    "    cnt_C.columns = ['Count_C']\n",
    "    \n",
    "    return cnt_C, dfC"
   ]
  },
  {
   "cell_type": "code",
   "execution_count": 17,
   "metadata": {},
   "outputs": [
    {
     "data": {
      "text/html": [
       "<div>\n",
       "<style scoped>\n",
       "    .dataframe tbody tr th:only-of-type {\n",
       "        vertical-align: middle;\n",
       "    }\n",
       "\n",
       "    .dataframe tbody tr th {\n",
       "        vertical-align: top;\n",
       "    }\n",
       "\n",
       "    .dataframe thead th {\n",
       "        text-align: right;\n",
       "    }\n",
       "</style>\n",
       "<table border=\"1\" class=\"dataframe\">\n",
       "  <thead>\n",
       "    <tr style=\"text-align: right;\">\n",
       "      <th></th>\n",
       "      <th>Count_C</th>\n",
       "    </tr>\n",
       "  </thead>\n",
       "  <tbody>\n",
       "    <tr>\n",
       "      <th>0.001</th>\n",
       "      <td>47</td>\n",
       "    </tr>\n",
       "    <tr>\n",
       "      <th>0.010</th>\n",
       "      <td>27</td>\n",
       "    </tr>\n",
       "    <tr>\n",
       "      <th>1.000</th>\n",
       "      <td>15</td>\n",
       "    </tr>\n",
       "    <tr>\n",
       "      <th>0.100</th>\n",
       "      <td>11</td>\n",
       "    </tr>\n",
       "  </tbody>\n",
       "</table>\n",
       "</div>"
      ],
      "text/plain": [
       "       Count_C\n",
       "0.001       47\n",
       "0.010       27\n",
       "1.000       15\n",
       "0.100       11"
      ]
     },
     "execution_count": 17,
     "metadata": {},
     "output_type": "execute_result"
    }
   ],
   "source": [
    "d1 = 1\n",
    "d2 = 5\n",
    "k = 10\n",
    "C = [0.0001, 0.001, 0.01, 0.1, 1]\n",
    "Q = 2\n",
    "no_trials = 100\n",
    "\n",
    "cnt_C, dfC = choose_C(X,y,d1,d2,k,C,Q,no_trials)\n",
    "cnt_C"
   ]
  },
  {
   "cell_type": "markdown",
   "metadata": {},
   "source": [
    "The value $C=0.001$ is selected most often in 100 trial runs.  \n",
    "Answer is (b)."
   ]
  },
  {
   "cell_type": "markdown",
   "metadata": {},
   "source": [
    "# Question 8\n",
    "Again, consider the 1 versus 5 classifier with $Q = 2$. For the winning selection in the previous problem, the average value of $E_{cv}$ over the 100 runs is closest to _?"
   ]
  },
  {
   "cell_type": "code",
   "execution_count": 18,
   "metadata": {},
   "outputs": [
    {
     "data": {
      "text/html": [
       "<div>\n",
       "<style scoped>\n",
       "    .dataframe tbody tr th:only-of-type {\n",
       "        vertical-align: middle;\n",
       "    }\n",
       "\n",
       "    .dataframe tbody tr th {\n",
       "        vertical-align: top;\n",
       "    }\n",
       "\n",
       "    .dataframe thead th {\n",
       "        text-align: right;\n",
       "    }\n",
       "</style>\n",
       "<table border=\"1\" class=\"dataframe\">\n",
       "  <thead>\n",
       "    <tr style=\"text-align: right;\">\n",
       "      <th></th>\n",
       "      <th>Ecv_avg</th>\n",
       "    </tr>\n",
       "    <tr>\n",
       "      <th>C</th>\n",
       "      <th></th>\n",
       "    </tr>\n",
       "  </thead>\n",
       "  <tbody>\n",
       "    <tr>\n",
       "      <th>0.001</th>\n",
       "      <td>0.004566</td>\n",
       "    </tr>\n",
       "    <tr>\n",
       "      <th>0.010</th>\n",
       "      <td>0.004484</td>\n",
       "    </tr>\n",
       "    <tr>\n",
       "      <th>0.100</th>\n",
       "      <td>0.004192</td>\n",
       "    </tr>\n",
       "    <tr>\n",
       "      <th>1.000</th>\n",
       "      <td>0.004183</td>\n",
       "    </tr>\n",
       "  </tbody>\n",
       "</table>\n",
       "</div>"
      ],
      "text/plain": [
       "        Ecv_avg\n",
       "C              \n",
       "0.001  0.004566\n",
       "0.010  0.004484\n",
       "0.100  0.004192\n",
       "1.000  0.004183"
      ]
     },
     "execution_count": 18,
     "metadata": {},
     "output_type": "execute_result"
    }
   ],
   "source": [
    "C_avg = dfC.groupby(['C']).mean()\n",
    "C_avg.columns = ['Ecv_avg']\n",
    "C_avg"
   ]
  },
  {
   "cell_type": "code",
   "execution_count": 19,
   "metadata": {},
   "outputs": [
    {
     "name": "stdout",
     "output_type": "stream",
     "text": [
      "Average E_cv is closest to 0.005\n"
     ]
    }
   ],
   "source": [
    "C_ecv = C_avg.iloc[C_avg.index.get_level_values('C') == 0.001].iloc[0,0]\n",
    "print('Average E_cv is closest to', \n",
    "      min([0.001, 0.003, 0.005, 0.007, 0.009], key=lambda x:abs(x-C_ecv)))"
   ]
  },
  {
   "cell_type": "markdown",
   "metadata": {},
   "source": [
    "Answer is (c)."
   ]
  },
  {
   "cell_type": "markdown",
   "metadata": {},
   "source": [
    "## RBF Kernel\n",
    "Consider the radial basis function (RBF) kernel $K(x_n, x_m) = exp(-||x_n-x_m||^2)$ in the soft-margin SVM approach. Focus on the 1 versus 5 classifier.\n",
    "### Question 9\n",
    "Which of the following values of $C$ results in the lowest $E_{in}$?"
   ]
  },
  {
   "cell_type": "code",
   "execution_count": 20,
   "metadata": {
    "collapsed": true
   },
   "outputs": [],
   "source": [
    "def oo_svc_rbf(X,y,Xt,yt,C,d1,d2):\n",
    "    Xn,yn = one_vs_one(X,y,d1, d2)\n",
    "    Xtn,ytn = one_vs_one(Xt,yt,d1, d2)\n",
    "    # Get 1st dimension of train test\n",
    "    Nn = Xn.shape[0]\n",
    "    Nnt = Xtn.shape[0]\n",
    "\n",
    "    Ein = []\n",
    "    Eout = []\n",
    "\n",
    "    for c in C: # run for each C value\n",
    "        poly_m = SVC(kernel = 'rbf', gamma = 1, C=c)\n",
    "        poly_m = poly_m.fit(Xn,yn)\n",
    "    \n",
    "        # Ein\n",
    "        g_poly = poly_m.predict(Xn)\n",
    "        Ein.append(np.count_nonzero(g_poly - yn)/Nn)\n",
    "    \n",
    "        #Eout\n",
    "        g_poly_t = poly_m.predict(Xtn)\n",
    "        Eout.append(np.count_nonzero(g_poly_t - ytn)/Nnt)\n",
    "            \n",
    "    dt = {'C':C, 'Ein':Ein, 'Eout':Eout}\n",
    "    df = pd.DataFrame(data = dt)\n",
    "    df = df[['C', 'Ein', 'Eout']]\n",
    "    \n",
    "    return df"
   ]
  },
  {
   "cell_type": "code",
   "execution_count": 21,
   "metadata": {},
   "outputs": [
    {
     "data": {
      "text/html": [
       "<div>\n",
       "<style scoped>\n",
       "    .dataframe tbody tr th:only-of-type {\n",
       "        vertical-align: middle;\n",
       "    }\n",
       "\n",
       "    .dataframe tbody tr th {\n",
       "        vertical-align: top;\n",
       "    }\n",
       "\n",
       "    .dataframe thead th {\n",
       "        text-align: right;\n",
       "    }\n",
       "</style>\n",
       "<table border=\"1\" class=\"dataframe\">\n",
       "  <thead>\n",
       "    <tr style=\"text-align: right;\">\n",
       "      <th></th>\n",
       "      <th>C</th>\n",
       "      <th>Ein</th>\n",
       "      <th>Eout</th>\n",
       "    </tr>\n",
       "  </thead>\n",
       "  <tbody>\n",
       "    <tr>\n",
       "      <th>0</th>\n",
       "      <td>0.01</td>\n",
       "      <td>0.003844</td>\n",
       "      <td>0.023585</td>\n",
       "    </tr>\n",
       "    <tr>\n",
       "      <th>1</th>\n",
       "      <td>1.00</td>\n",
       "      <td>0.004484</td>\n",
       "      <td>0.021226</td>\n",
       "    </tr>\n",
       "    <tr>\n",
       "      <th>2</th>\n",
       "      <td>100.00</td>\n",
       "      <td>0.003203</td>\n",
       "      <td>0.018868</td>\n",
       "    </tr>\n",
       "    <tr>\n",
       "      <th>3</th>\n",
       "      <td>100000.00</td>\n",
       "      <td>0.001922</td>\n",
       "      <td>0.018868</td>\n",
       "    </tr>\n",
       "    <tr>\n",
       "      <th>4</th>\n",
       "      <td>10000000.00</td>\n",
       "      <td>0.000000</td>\n",
       "      <td>0.025943</td>\n",
       "    </tr>\n",
       "  </tbody>\n",
       "</table>\n",
       "</div>"
      ],
      "text/plain": [
       "             C       Ein      Eout\n",
       "0         0.01  0.003844  0.023585\n",
       "1         1.00  0.004484  0.021226\n",
       "2       100.00  0.003203  0.018868\n",
       "3    100000.00  0.001922  0.018868\n",
       "4  10000000.00  0.000000  0.025943"
      ]
     },
     "execution_count": 21,
     "metadata": {},
     "output_type": "execute_result"
    }
   ],
   "source": [
    "C = [0.01, 1, 100, 10e4, 10e6]\n",
    "D1 = 1; d2 = 5\n",
    "oo_svc_rbf(X,y,Xt,yt,C,d1,d2)"
   ]
  },
  {
   "cell_type": "markdown",
   "metadata": {},
   "source": [
    "At large values of C the classifiers tends to try very hard not to have missclassified points. This is also visible from the above table, as the $E_{in}$ decreases as C increases.  \n",
    "Answer is (e)."
   ]
  },
  {
   "cell_type": "markdown",
   "metadata": {},
   "source": [
    "### Question 10\n",
    "Which of the following values of $C$ results in the lowest $E_{out}$?"
   ]
  },
  {
   "cell_type": "markdown",
   "metadata": {
    "collapsed": true
   },
   "source": [
    "Using the table from previous problem we have that the lowest out of sample error is for $C=100$, as we pick lower C in case of a tie value.  \n",
    "Answer is (c)"
   ]
  }
 ],
 "metadata": {
  "kernelspec": {
   "display_name": "Python 3",
   "language": "python",
   "name": "python3"
  },
  "language_info": {
   "codemirror_mode": {
    "name": "ipython",
    "version": 3
   },
   "file_extension": ".py",
   "mimetype": "text/x-python",
   "name": "python",
   "nbconvert_exporter": "python",
   "pygments_lexer": "ipython3",
   "version": "3.7.4"
  }
 },
 "nbformat": 4,
 "nbformat_minor": 2
}
