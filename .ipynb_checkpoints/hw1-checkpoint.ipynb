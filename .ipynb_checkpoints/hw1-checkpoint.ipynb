{
 "cells": [
  {
   "cell_type": "code",
   "execution_count": 1,
   "metadata": {},
   "outputs": [],
   "source": [
    "import matplotlib.pyplot as plt\n",
    "import numpy as np"
   ]
  },
  {
   "cell_type": "markdown",
   "metadata": {},
   "source": [
    "### The Perceptron Learning Algorithm"
   ]
  },
  {
   "cell_type": "code",
   "execution_count": 2,
   "metadata": {},
   "outputs": [],
   "source": [
    "def generate_line():\n",
    "    \"\"\"\n",
    "    Generate a random line with corresponding coefficient and intercept\n",
    "    \"\"\"\n",
    "    \n",
    "    line_points = np.random.uniform(-1, 1, [2, 2])\n",
    "    line_coef = (line_points[1,1] - line_points[0, 1])/(line_points[1,0] - line_points[0, 0])\n",
    "    line_intercept = line_points[0,1] - line_coef*line_points[0,0]\n",
    "    return line_coef, line_intercept\n",
    "\n",
    "def generate_data(N, line_coef, line_intercept):\n",
    "    \"\"\"\n",
    "    Generate random data given number of points, a line coefficient and intercept. Generated points will be in +1/-1 class regarding their relative position to the line.\n",
    "    \n",
    "    Inputs:\n",
    "    - N: number of points to be generated\n",
    "    - line_coef: line's coefficient\n",
    "    - line_intercept: line's intercept\n",
    "    \n",
    "    Outputs: a tuple of 2 variables:\n",
    "    - X: positions of generated points\n",
    "    - y: classes of points (+1/-1)\n",
    "    \"\"\"\n",
    "    \n",
    "    X = np.random.uniform(-1, 1, [N, 2])\n",
    "    y = X[:, 1] - X[:, 0] * line_coef - line_intercept >= 0\n",
    "    y = np.where(y, 1, -1)\n",
    "    if np.abs(np.sum(y)) == len(y):\n",
    "        X, y = generate_data(N, line_coef, line_intercept)\n",
    "    return X, y"
   ]
  },
  {
   "cell_type": "code",
   "execution_count": 3,
   "metadata": {},
   "outputs": [],
   "source": [
    "class PLA():\n",
    "    \"\"\"\n",
    "    Perceptron Learning Algorithm model\n",
    "    \"\"\"\n",
    "    def __init__(self):\n",
    "        pass\n",
    "    \n",
    "    def fit(self, X, y):\n",
    "        self.w = np.zeros((X.shape[1], 1))\n",
    "        converged = False\n",
    "        self.n_iters = 0\n",
    "        while not converged:\n",
    "            converged = True\n",
    "            idx = np.random.permutation(len(y)) # loop through random indices of input matrix\n",
    "            for i in idx:\n",
    "                xi = X[i]\n",
    "                yi = y[i]\n",
    "                if yi * (xi @ self.w) <= 0:\n",
    "                    converged = False\n",
    "                    self.n_iters += 1\n",
    "                    self.w += (yi*xi).reshape(-1,1)\n",
    "                    \n",
    "    def predict(self, X):\n",
    "        return np.sign((X @ self.w)).squeeze()\n",
    "    \n",
    "def error(y_true, y_pred):\n",
    "    # return proportion of error\n",
    "    return np.sum(y_true != y_pred) / len(y_true)"
   ]
  },
  {
   "cell_type": "markdown",
   "metadata": {},
   "source": [
    "#### Question 7, 8"
   ]
  },
  {
   "cell_type": "code",
   "execution_count": 4,
   "metadata": {},
   "outputs": [
    {
     "name": "stdout",
     "output_type": "stream",
     "text": [
      "Average number of iterations till converged: 10.108\n",
      "Average proportion of error: 0.101\n"
     ]
    }
   ],
   "source": [
    "N_train = 10\n",
    "N_test = 5000\n",
    "n_runs = 1000\n",
    "iters = []\n",
    "errors = []\n",
    "\n",
    "for i in range(n_runs):\n",
    "    coef, intercept = generate_line()  # generate line's params\n",
    "    # train data\n",
    "    X_train, y_train = generate_data(N_train, coef, intercept)\n",
    "    X_train = np.hstack((np.ones((len(X_train),1)), X_train))  # add dummy x0 columns\n",
    "    \n",
    "    # test data\n",
    "    X_test, y_test = generate_data(N_test, coef, intercept)\n",
    "    X_test = np.hstack((np.ones((len(X_test),1)), X_test))\n",
    "    \n",
    "    # PLA model\n",
    "    pla = PLA()\n",
    "    pla.fit(X_train, y_train)\n",
    "    iters.append(pla.n_iters)\n",
    "    pred = pla.predict(X_test)\n",
    "    errors.append(error(y_test, pred))\n",
    "    \n",
    "    \n",
    "print(\"Average number of iterations till converged: {}\".format(np.mean(iters)))\n",
    "print(\"Average proportion of error: {:.3f}\".format(np.mean(errors)))"
   ]
  },
  {
   "cell_type": "markdown",
   "metadata": {},
   "source": [
    "#### Question 9, 10"
   ]
  },
  {
   "cell_type": "code",
   "execution_count": 5,
   "metadata": {},
   "outputs": [
    {
     "name": "stdout",
     "output_type": "stream",
     "text": [
      "Average number of iterations till converged: 127.329\n",
      "Average proportion of error: 0.013\n"
     ]
    }
   ],
   "source": [
    "N_train = 100\n",
    "N_test = 5000\n",
    "n_runs = 1000\n",
    "iters = []\n",
    "errors = []\n",
    "\n",
    "for i in range(n_runs):\n",
    "    coef, intercept = generate_line()  # generate line's params\n",
    "    # train data\n",
    "    X_train, y_train = generate_data(N_train, coef, intercept)\n",
    "    X_train = np.hstack((np.ones((len(X_train),1)), X_train))  # add dummy x0 columns\n",
    "    \n",
    "    # test data\n",
    "    X_test, y_test = generate_data(N_test, coef, intercept)\n",
    "    X_test = np.hstack((np.ones((len(X_test),1)), X_test))\n",
    "    \n",
    "    # PLA model\n",
    "    pla = PLA()\n",
    "    pla.fit(X_train, y_train)\n",
    "    iters.append(pla.n_iters)\n",
    "    pred = pla.predict(X_test)\n",
    "    errors.append(error(y_test, pred))\n",
    "    \n",
    "    \n",
    "print(\"Average number of iterations till converged: {}\".format(np.mean(iters)))\n",
    "print(\"Average proportion of error: {:.3f}\".format(np.mean(errors)))"
   ]
  }
 ],
 "metadata": {
  "kernelspec": {
   "display_name": "Python 3",
   "language": "python",
   "name": "python3"
  },
  "language_info": {
   "codemirror_mode": {
    "name": "ipython",
    "version": 3
   },
   "file_extension": ".py",
   "mimetype": "text/x-python",
   "name": "python",
   "nbconvert_exporter": "python",
   "pygments_lexer": "ipython3",
   "version": "3.7.4"
  }
 },
 "nbformat": 4,
 "nbformat_minor": 2
}
