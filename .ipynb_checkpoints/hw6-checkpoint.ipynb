{
 "cells": [
  {
   "cell_type": "code",
   "execution_count": 177,
   "metadata": {},
   "outputs": [],
   "source": [
    "import numpy as np\n",
    "import matplotlib.pyplot as plt\n",
    "import pandas as pd\n",
    "from sklearn.metrics import mean_squared_error"
   ]
  },
  {
   "cell_type": "markdown",
   "metadata": {},
   "source": [
    "### Regularization with Weight Decay"
   ]
  },
  {
   "cell_type": "code",
   "execution_count": 54,
   "metadata": {},
   "outputs": [],
   "source": [
    "train = pd.read_table('datasets/in.dta', sep='  ', header=None, engine='python')\n",
    "test = pd.read_table('datasets/out.dta', sep='  ', header=None, engine='python')"
   ]
  },
  {
   "cell_type": "code",
   "execution_count": 55,
   "metadata": {},
   "outputs": [
    {
     "data": {
      "text/html": [
       "<div>\n",
       "<style scoped>\n",
       "    .dataframe tbody tr th:only-of-type {\n",
       "        vertical-align: middle;\n",
       "    }\n",
       "\n",
       "    .dataframe tbody tr th {\n",
       "        vertical-align: top;\n",
       "    }\n",
       "\n",
       "    .dataframe thead th {\n",
       "        text-align: right;\n",
       "    }\n",
       "</style>\n",
       "<table border=\"1\" class=\"dataframe\">\n",
       "  <thead>\n",
       "    <tr style=\"text-align: right;\">\n",
       "      <th></th>\n",
       "      <th>0</th>\n",
       "      <th>1</th>\n",
       "      <th>2</th>\n",
       "    </tr>\n",
       "  </thead>\n",
       "  <tbody>\n",
       "    <tr>\n",
       "      <td>0</td>\n",
       "      <td>-0.779470</td>\n",
       "      <td>0.838221</td>\n",
       "      <td>1.0</td>\n",
       "    </tr>\n",
       "    <tr>\n",
       "      <td>1</td>\n",
       "      <td>0.155635</td>\n",
       "      <td>0.895377</td>\n",
       "      <td>1.0</td>\n",
       "    </tr>\n",
       "    <tr>\n",
       "      <td>2</td>\n",
       "      <td>-0.059908</td>\n",
       "      <td>-0.717780</td>\n",
       "      <td>1.0</td>\n",
       "    </tr>\n",
       "    <tr>\n",
       "      <td>3</td>\n",
       "      <td>0.207596</td>\n",
       "      <td>0.758933</td>\n",
       "      <td>1.0</td>\n",
       "    </tr>\n",
       "    <tr>\n",
       "      <td>4</td>\n",
       "      <td>-0.195983</td>\n",
       "      <td>-0.375487</td>\n",
       "      <td>-1.0</td>\n",
       "    </tr>\n",
       "  </tbody>\n",
       "</table>\n",
       "</div>"
      ],
      "text/plain": [
       "          0         1    2\n",
       "0 -0.779470  0.838221  1.0\n",
       "1  0.155635  0.895377  1.0\n",
       "2 -0.059908 -0.717780  1.0\n",
       "3  0.207596  0.758933  1.0\n",
       "4 -0.195983 -0.375487 -1.0"
      ]
     },
     "execution_count": 55,
     "metadata": {},
     "output_type": "execute_result"
    }
   ],
   "source": [
    "train.head()"
   ]
  },
  {
   "cell_type": "code",
   "execution_count": 56,
   "metadata": {},
   "outputs": [
    {
     "data": {
      "text/html": [
       "<div>\n",
       "<style scoped>\n",
       "    .dataframe tbody tr th:only-of-type {\n",
       "        vertical-align: middle;\n",
       "    }\n",
       "\n",
       "    .dataframe tbody tr th {\n",
       "        vertical-align: top;\n",
       "    }\n",
       "\n",
       "    .dataframe thead th {\n",
       "        text-align: right;\n",
       "    }\n",
       "</style>\n",
       "<table border=\"1\" class=\"dataframe\">\n",
       "  <thead>\n",
       "    <tr style=\"text-align: right;\">\n",
       "      <th></th>\n",
       "      <th>0</th>\n",
       "      <th>1</th>\n",
       "      <th>2</th>\n",
       "    </tr>\n",
       "  </thead>\n",
       "  <tbody>\n",
       "    <tr>\n",
       "      <td>0</td>\n",
       "      <td>-0.106006</td>\n",
       "      <td>-0.081467</td>\n",
       "      <td>-1.0</td>\n",
       "    </tr>\n",
       "    <tr>\n",
       "      <td>1</td>\n",
       "      <td>0.177930</td>\n",
       "      <td>-0.345951</td>\n",
       "      <td>-1.0</td>\n",
       "    </tr>\n",
       "    <tr>\n",
       "      <td>2</td>\n",
       "      <td>0.102162</td>\n",
       "      <td>0.718258</td>\n",
       "      <td>1.0</td>\n",
       "    </tr>\n",
       "    <tr>\n",
       "      <td>3</td>\n",
       "      <td>0.694078</td>\n",
       "      <td>0.623397</td>\n",
       "      <td>-1.0</td>\n",
       "    </tr>\n",
       "    <tr>\n",
       "      <td>4</td>\n",
       "      <td>0.023541</td>\n",
       "      <td>0.727432</td>\n",
       "      <td>1.0</td>\n",
       "    </tr>\n",
       "  </tbody>\n",
       "</table>\n",
       "</div>"
      ],
      "text/plain": [
       "          0         1    2\n",
       "0 -0.106006 -0.081467 -1.0\n",
       "1  0.177930 -0.345951 -1.0\n",
       "2  0.102162  0.718258  1.0\n",
       "3  0.694078  0.623397 -1.0\n",
       "4  0.023541  0.727432  1.0"
      ]
     },
     "execution_count": 56,
     "metadata": {},
     "output_type": "execute_result"
    }
   ],
   "source": [
    "test.head()"
   ]
  },
  {
   "cell_type": "code",
   "execution_count": 163,
   "metadata": {},
   "outputs": [],
   "source": [
    "class LinearRegression():\n",
    "    def __init__(self, ld=0):\n",
    "        self.ld = ld\n",
    "        \n",
    "    def fit(self, X, y):\n",
    "        X, y = np.asarray(X), np.asarray(y)\n",
    "        self.weights = np.linalg.inv(X.T @ X + self.ld*np.identity(X.shape[1])) @ (X.T) @ y.reshape(-1,1)\n",
    "        \n",
    "    def predict(self, X):\n",
    "        X = np.asarray(X)\n",
    "        predict = X @ (self.weights)\n",
    "        return predict.squeeze()"
   ]
  },
  {
   "cell_type": "code",
   "execution_count": 122,
   "metadata": {},
   "outputs": [],
   "source": [
    "def nonlinear_transform(data, funcs=None):\n",
    "    \"\"\"\n",
    "    Input:\n",
    "    - data: an array or DataFrame\n",
    "    - funcs: a list of function, e.g. funcs=[lambda x: x[0] + x[1], lambda x: x[2]=0]..., which are applied to the given data\n",
    "    \n",
    "    Output:\n",
    "    - a transformed array\n",
    "    \"\"\"\n",
    "    \n",
    "    data_arr = np.asarray(data)\n",
    "    for f in funcs:\n",
    "        new_col = np.asarray(f(data)).reshape(-1,1)\n",
    "        data_arr = np.hstack((data_arr, new_col))\n",
    "    return data_arr\n",
    "\n",
    "def error(y_true, y_pred):\n",
    "    mul = y_true * y_pred\n",
    "    return np.sum(mul < 0) / len(y_true)"
   ]
  },
  {
   "cell_type": "code",
   "execution_count": 136,
   "metadata": {},
   "outputs": [],
   "source": [
    "X_train = train.drop(columns=[2])\n",
    "y_train = train[2]\n",
    "\n",
    "X_test = test.drop(columns=[2])\n",
    "y_test = test[2]"
   ]
  },
  {
   "cell_type": "code",
   "execution_count": 158,
   "metadata": {},
   "outputs": [],
   "source": [
    "nonlinear_funcs = [lambda x: x[0]**2,\n",
    "                  lambda x: x[1]**2,\n",
    "                  lambda x: x[0]*x[1],\n",
    "                  lambda x: np.abs(x[0]-x[1]),\n",
    "                  lambda x: np.abs(x[0]+x[1])]\n",
    "\n",
    "X_train_transformed = nonlinear_transform(X_train, nonlinear_funcs)\n",
    "X_test_transformed = nonlinear_transform(X_test, nonlinear_funcs)\n",
    "\n",
    "X_train_transformed = np.hstack((np.ones((X_train.shape[0],1)), X_train_transformed))\n",
    "X_test_transformed = np.hstack((np.ones((X_test.shape[0],1)), X_test_transformed))"
   ]
  },
  {
   "cell_type": "code",
   "execution_count": 160,
   "metadata": {
    "scrolled": true
   },
   "outputs": [
    {
     "data": {
      "text/plain": [
       "(35, 8)"
      ]
     },
     "execution_count": 160,
     "metadata": {},
     "output_type": "execute_result"
    }
   ],
   "source": [
    "X_train_transformed.shape"
   ]
  },
  {
   "cell_type": "markdown",
   "metadata": {},
   "source": [
    "#### Question 2 (without weight decay)"
   ]
  },
  {
   "cell_type": "code",
   "execution_count": 200,
   "metadata": {},
   "outputs": [
    {
     "name": "stdout",
     "output_type": "stream",
     "text": [
      "In-sample error: 0.029\n",
      "Out-of-sample error: 0.084\n"
     ]
    }
   ],
   "source": [
    "lr = LinearRegression()\n",
    "lr.fit(X_train_transformed, y_train)\n",
    "\n",
    "train_pred = lr.predict(X_train_transformed)\n",
    "test_pred = lr.predict(X_test_transformed)\n",
    "\n",
    "print('In-sample error: {:.3f}'.format(error(y_train, train_pred)))\n",
    "print('Out-of-sample error: {:.3f}'.format(error(y_test, test_pred)))"
   ]
  },
  {
   "cell_type": "markdown",
   "metadata": {},
   "source": [
    "#### Question 3"
   ]
  },
  {
   "cell_type": "code",
   "execution_count": 198,
   "metadata": {},
   "outputs": [
    {
     "name": "stdout",
     "output_type": "stream",
     "text": [
      "In-sample error: 0.029\n",
      "Out-of-sample error: 0.080\n"
     ]
    }
   ],
   "source": [
    "lr1 = LinearRegression(ld=10**-3)\n",
    "lr1.fit(X_train_transformed, y_train)\n",
    "\n",
    "train_pred = lr1.predict(X_train_transformed)\n",
    "test_pred = lr1.predict(X_test_transformed)\n",
    "\n",
    "print('In-sample error: {:.3f}'.format(error(y_train, train_pred)))\n",
    "print('Out-of-sample error: {:.3f}'.format(error(y_test, test_pred)))"
   ]
  },
  {
   "cell_type": "markdown",
   "metadata": {},
   "source": [
    "#### Question 4"
   ]
  },
  {
   "cell_type": "code",
   "execution_count": 199,
   "metadata": {},
   "outputs": [
    {
     "name": "stdout",
     "output_type": "stream",
     "text": [
      "In-sample error: 0.371\n",
      "Out-of-sample error: 0.436\n"
     ]
    }
   ],
   "source": [
    "lr2 = LinearRegression(ld=10**3)\n",
    "lr2.fit(X_train_transformed, y_train)\n",
    "\n",
    "train_pred = lr2.predict(X_train_transformed)\n",
    "test_pred = lr2.predict(X_test_transformed)\n",
    "\n",
    "print('In-sample error: {:.3f}'.format(error(y_train, train_pred)))\n",
    "print('Out-of-sample error: {:.3f}'.format(error(y_test, test_pred)))"
   ]
  },
  {
   "cell_type": "markdown",
   "metadata": {},
   "source": [
    "#### Question 5"
   ]
  },
  {
   "cell_type": "code",
   "execution_count": 209,
   "metadata": {},
   "outputs": [
    {
     "name": "stdout",
     "output_type": "stream",
     "text": [
      "Out-of-sample for different k: {-2: 0.084, -1: 0.056, 0: 0.092, 1: 0.124, 2: 0.228}\n"
     ]
    }
   ],
   "source": [
    "k_list = list(range(-2, 3))\n",
    "oos_error = {}\n",
    "\n",
    "for k in k_list:\n",
    "    lr = LinearRegression(ld=10**k)\n",
    "    lr.fit(X_train_transformed, y_train)\n",
    "    pred = lr.predict(X_test_transformed)\n",
    "    oos_error[k] = error(y_test, pred)\n",
    "\n",
    "print('Out-of-sample for different k: {}'.format(oos_error))"
   ]
  },
  {
   "cell_type": "markdown",
   "metadata": {},
   "source": [
    "#### Question 6"
   ]
  },
  {
   "cell_type": "code",
   "execution_count": 217,
   "metadata": {},
   "outputs": [
    {
     "name": "stdout",
     "output_type": "stream",
     "text": [
      "Minimum out-of-sample error: 0.056\n"
     ]
    }
   ],
   "source": [
    "oos_error = []\n",
    "for k in range(-10, 10):\n",
    "    lr = LinearRegression(ld=10**k)\n",
    "    lr.fit(X_train_transformed, y_train)\n",
    "    pred = lr.predict(X_test_transformed)\n",
    "    oos_error.append(error(y_test, pred))\n",
    "    \n",
    "print('Minimum out-of-sample error: {}'.format(min(oos_error)))"
   ]
  }
 ],
 "metadata": {
  "kernelspec": {
   "display_name": "Python 3",
   "language": "python",
   "name": "python3"
  },
  "language_info": {
   "codemirror_mode": {
    "name": "ipython",
    "version": 3
   },
   "file_extension": ".py",
   "mimetype": "text/x-python",
   "name": "python",
   "nbconvert_exporter": "python",
   "pygments_lexer": "ipython3",
   "version": "3.7.4"
  }
 },
 "nbformat": 4,
 "nbformat_minor": 2
}
