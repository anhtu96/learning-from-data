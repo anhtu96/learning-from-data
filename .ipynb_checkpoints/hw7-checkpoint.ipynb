{
 "cells": [
  {
   "cell_type": "markdown",
   "metadata": {},
   "source": [
    "### Validation"
   ]
  },
  {
   "cell_type": "code",
   "execution_count": 1,
   "metadata": {},
   "outputs": [],
   "source": [
    "import numpy as np\n",
    "import matplotlib.pyplot as plt\n",
    "import pandas as pd\n",
    "import cvxopt"
   ]
  },
  {
   "cell_type": "code",
   "execution_count": 2,
   "metadata": {},
   "outputs": [],
   "source": [
    "class LinearRegression():\n",
    "    def __init__(self):\n",
    "        pass\n",
    "    \n",
    "    def fit(self, X, y):\n",
    "        y = y.reshape(-1, 1)\n",
    "        self.w = np.linalg.inv(X.T @ X) @ (X.T) @ y\n",
    "        \n",
    "    def predict(self, X):\n",
    "        pred = X @ self.w\n",
    "        return pred.squeeze()\n",
    "    \n",
    "def transform(X, funcs):\n",
    "    \"\"\"\n",
    "    Inputs:\n",
    "    - X: input nd-array\n",
    "    - funcs: a list of functions applied on input's columns\n",
    "    \n",
    "    Return: a new input matrix with new features\n",
    "    \"\"\"\n",
    "    \n",
    "    for f in funcs:\n",
    "        newcol = f(X).reshape(-1,1)\n",
    "        X = np.hstack((X, newcol))\n",
    "    return X\n",
    "\n",
    "def error(y_true, y_pred):\n",
    "    mul = y_true * y_pred\n",
    "    return np.sum(mul < 0) / len(y_true)"
   ]
  },
  {
   "cell_type": "code",
   "execution_count": 3,
   "metadata": {},
   "outputs": [],
   "source": [
    "inp = pd.read_table('datasets/in.dta', sep='  ', header=None, engine='python')\n",
    "out = pd.read_table('datasets/out.dta', sep='  ', header=None, engine='python')"
   ]
  },
  {
   "cell_type": "code",
   "execution_count": 4,
   "metadata": {},
   "outputs": [],
   "source": [
    "X, y = inp[[0,1]].to_numpy(), inp[2].to_numpy()\n",
    "X_test, y_test = out[[0, 1]].to_numpy(), out[2].to_numpy()\n",
    "\n",
    "X = np.hstack((np.ones((X.shape[0],1)), X))\n",
    "X_test = np.hstack((np.ones((X_test.shape[0],1)), X_test))\n",
    "\n",
    "nonlinear_trans = [lambda x: x[:,1]**2,\n",
    "                  lambda x: x[:,2]**2,\n",
    "                  lambda x: x[:,1]*x[:,2],\n",
    "                  lambda x: np.abs(x[:,1]-x[:,2]),\n",
    "                  lambda x: np.abs(x[:,1]+x[:,2])]"
   ]
  },
  {
   "cell_type": "markdown",
   "metadata": {},
   "source": [
    "#### Question 1, 2"
   ]
  },
  {
   "cell_type": "code",
   "execution_count": 5,
   "metadata": {},
   "outputs": [
    {
     "name": "stdout",
     "output_type": "stream",
     "text": [
      "Running LR for different k\n",
      "k = 3, Eval = 0.3, Eout = 0.42\n",
      "k = 4, Eval = 0.5, Eout = 0.416\n",
      "k = 5, Eval = 0.2, Eout = 0.188\n",
      "k = 6, Eval = 0.0, Eout = 0.084\n",
      "k = 7, Eval = 0.1, Eout = 0.072\n"
     ]
    }
   ],
   "source": [
    "X_train, y_train = X[:25], y[:25]\n",
    "X_val, y_val = X[25:], y[25:]\n",
    "\n",
    "\n",
    "print('Running LR for different k')\n",
    "for i in range(1, len(nonlinear_trans)+1):\n",
    "    f = nonlinear_trans[:i]\n",
    "    X_train_trans = transform(X_train, f)\n",
    "    X_val_trans = transform(X_val, f)\n",
    "    X_test_trans = transform(X_test, f)\n",
    "    k = X_train.shape[1] + i - 1\n",
    "    \n",
    "    lr = LinearRegression()\n",
    "    lr.fit(X_train_trans, y_train)\n",
    "    pred_val = lr.predict(X_val_trans)\n",
    "    pred_test = lr.predict(X_test_trans)\n",
    "    Eval = error(y_val, pred_val)\n",
    "    Eout = error(y_test, pred_test)\n",
    "    print('k = {}, Eval = {}, Eout = {}'.format(k, Eval, Eout))"
   ]
  },
  {
   "cell_type": "markdown",
   "metadata": {},
   "source": [
    "#### Question 3, 4"
   ]
  },
  {
   "cell_type": "code",
   "execution_count": 6,
   "metadata": {},
   "outputs": [
    {
     "name": "stdout",
     "output_type": "stream",
     "text": [
      "Running LR for different k\n",
      "k = 3, Eval = 0.28, Eout = 0.396\n",
      "k = 4, Eval = 0.36, Eout = 0.388\n",
      "k = 5, Eval = 0.2, Eout = 0.284\n",
      "k = 6, Eval = 0.08, Eout = 0.192\n",
      "k = 7, Eval = 0.12, Eout = 0.196\n"
     ]
    }
   ],
   "source": [
    "X_val, y_val = X[:25], y[:25]\n",
    "X_train, y_train = X[25:], y[25:]\n",
    "\n",
    "\n",
    "print('Running LR for different k')\n",
    "for i in range(1, len(nonlinear_trans)+1):\n",
    "    f = nonlinear_trans[:i]\n",
    "    X_train_trans = transform(X_train, f)\n",
    "    X_val_trans = transform(X_val, f)\n",
    "    X_test_trans = transform(X_test, f)\n",
    "    k = X_train.shape[1] + i - 1\n",
    "    \n",
    "    lr = LinearRegression()\n",
    "    lr.fit(X_train_trans, y_train)\n",
    "    pred_val = lr.predict(X_val_trans)\n",
    "    pred_test = lr.predict(X_test_trans)\n",
    "    Eval = error(y_val, pred_val)\n",
    "    Eout = error(y_test, pred_test)\n",
    "    print('k = {}, Eval = {}, Eout = {}'.format(k, Eval, Eout))"
   ]
  },
  {
   "cell_type": "markdown",
   "metadata": {},
   "source": [
    "#### Question 6"
   ]
  },
  {
   "cell_type": "code",
   "execution_count": 7,
   "metadata": {},
   "outputs": [
    {
     "name": "stdout",
     "output_type": "stream",
     "text": [
      "E[e1] = 0.49836981096394406, E[e2] = 0.49953095899628025, E[e] = 0.3295074469180268\n"
     ]
    }
   ],
   "source": [
    "e1_list = []\n",
    "e2_list = []\n",
    "e_list = []\n",
    "for i in range(1000):\n",
    "    e1 = np.random.uniform(0, 1)\n",
    "    e2 = np.random.uniform(0, 1)\n",
    "    e = np.min([e1, e2])\n",
    "    e1_list.append(e1)\n",
    "    e2_list.append(e2)\n",
    "    e_list.append(e)\n",
    "    \n",
    "print('E[e1] = {}, E[e2] = {}, E[e] = {}'.format(np.mean(e1_list), np.mean(e2_list), np.mean(e_list)))"
   ]
  },
  {
   "cell_type": "markdown",
   "metadata": {},
   "source": [
    "#### Question 7"
   ]
  },
  {
   "cell_type": "code",
   "execution_count": 8,
   "metadata": {},
   "outputs": [
    {
     "name": "stdout",
     "output_type": "stream",
     "text": [
      "p0: Eout_0 = 0.5, Eout_1 = 1.135043367685941\n",
      "p1: Eout_0 = 0.5, Eout_1 = 64.66494840795369\n",
      "p2: Eout_0 = 0.5, Eout_1 = 0.5000000000000001\n",
      "p3: Eout_0 = 0.5, Eout_1 = 0.9868839293305486\n"
     ]
    }
   ],
   "source": [
    "p = [np.sqrt(np.sqrt(3)+4), np.sqrt(np.sqrt(3)-1), np.sqrt(9+4*np.sqrt(6)), np.sqrt(9-np.sqrt(6))]\n",
    "X = np.array([-1, 1]).reshape(-1,1)\n",
    "y = np.array([0, 0])\n",
    "for i in range(len(p)):\n",
    "    X_copy = np.vstack((X, p[i]))\n",
    "    y_copy = np.hstack((y, 1))\n",
    "    e0 = []\n",
    "    e1 = []\n",
    "    for fold in range(3):\n",
    "        X_train = X_copy[[idx for idx in range(len(X_copy)) if idx!=fold]]\n",
    "        y_train = y_copy[[idx for idx in range(len(y_copy)) if idx!=fold]]\n",
    "        X_val = X_copy[fold]\n",
    "        y_val = y_copy[fold]\n",
    "        X_train = np.hstack((np.ones((X_train.shape[0],1)), X_train))\n",
    "        X_val = np.hstack((np.ones((X_val.shape[0])), X_val))\n",
    "        \n",
    "        h0 = np.mean(y_train)\n",
    "        h1 = LinearRegression()\n",
    "        h1.fit(X_train, y_train)\n",
    "        pred_0 = h0\n",
    "        pred_1 = h1.predict(X_val)\n",
    "        e0.append((pred_0 - y_val)**2)\n",
    "        e1.append((pred_1 - y_val)**2)\n",
    "        \n",
    "    print('p{}: Eout_0 = {}, Eout_1 = {}'.format(i, np.mean(e0), np.mean(e1)))"
   ]
  },
  {
   "cell_type": "markdown",
   "metadata": {},
   "source": [
    "#### Question 8"
   ]
  },
  {
   "cell_type": "code",
   "execution_count": 9,
   "metadata": {},
   "outputs": [],
   "source": [
    "def generate_line():\n",
    "    \"\"\"\n",
    "    Generate a random line with corresponding coefficient and intercept\n",
    "    \"\"\"\n",
    "    \n",
    "    line_points = np.random.uniform(-1, 1, [2, 2])\n",
    "    line_coef = (line_points[1,1] - line_points[0, 1])/(line_points[1,0] - line_points[0, 0])\n",
    "    line_intercept = line_points[0,1] - line_coef*line_points[0,0]\n",
    "    return line_coef, line_intercept\n",
    "\n",
    "def generate_data(N, line_coef, line_intercept):\n",
    "    \"\"\"\n",
    "    Generate random data given number of points, a line coefficient and intercept. Generated points will be in +1/-1 class regarding their relative position to the line.\n",
    "    \n",
    "    Inputs:\n",
    "    - N: number of points to be generated\n",
    "    - line_coef: line's coefficient\n",
    "    - line_intercept: line's intercept\n",
    "    \n",
    "    Outputs: a tuple of 2 variables:\n",
    "    - X: positions of generated points\n",
    "    - y: classes of points (+1/-1)\n",
    "    \"\"\"\n",
    "    \n",
    "    X = np.random.uniform(-1, 1, [N, 2])\n",
    "    y = X[:, 1] - X[:, 0] * line_coef - line_intercept >= 0\n",
    "    y = np.where(y, 1, -1)\n",
    "    if np.abs(np.sum(y)) == len(y):\n",
    "        X, y = generate_data(N, line_coef, line_intercept)\n",
    "    return X, y"
   ]
  },
  {
   "cell_type": "code",
   "execution_count": 10,
   "metadata": {},
   "outputs": [],
   "source": [
    "class PLA():\n",
    "    \"\"\"\n",
    "    PLA model\n",
    "    \"\"\"\n",
    "    def __init__(self):\n",
    "        pass\n",
    "    \n",
    "    def fit(self, X, y):\n",
    "        self.w = np.zeros((X.shape[1],1))\n",
    "        converged = False\n",
    "        while not converged:\n",
    "            converged = True\n",
    "            for i in range(X.shape[0]):\n",
    "                yi = y[i]\n",
    "                xi = X[i].reshape(1,-1)\n",
    "                if yi * (xi @ self.w) <= 0:\n",
    "                    converged = False\n",
    "                    self.w += (yi * xi).T\n",
    "                    \n",
    "    def predict(self, X):\n",
    "        pred = np.sign(X @ self.w)\n",
    "        return pred.squeeze()\n",
    "    \n",
    "class SVM():\n",
    "    \"\"\"\n",
    "    SVM classifier\n",
    "    \"\"\"\n",
    "    \n",
    "    def __init__(self):\n",
    "        self.w = None\n",
    "        self.alpha = None\n",
    "    \n",
    "    def fit(self, X, y, form='primal'):\n",
    "        self.form = form\n",
    "        y = y.reshape(-1,1)\n",
    "        cvxopt.solvers.options['show_progress'] = False\n",
    "        if self.form == 'primal':\n",
    "            \"\"\"\n",
    "            Find w directly\n",
    "            \"\"\"\n",
    "            P = np.eye(X.shape[1])\n",
    "            P[0,0] = 0 # we need to find w, b to minimize w, so the 1st value mapping to b is 0\n",
    "            q = np.zeros(X.shape[1])\n",
    "            G = -y * X\n",
    "            h = -np.ones((len(y)))\n",
    "            \n",
    "            P = cvxopt.matrix(P)\n",
    "            q = cvxopt.matrix(q)\n",
    "            G = cvxopt.matrix(G)\n",
    "            h = cvxopt.matrix(h)\n",
    "            cvx = cvxopt.solvers.qp(P, q, G, h)\n",
    "            self.w = np.array(cvx['x'])\n",
    "            self.alpha = None\n",
    "            \n",
    "        if self.form == 'dual':\n",
    "            \"\"\"\n",
    "            Find support vectors, then find w\n",
    "            \"\"\"\n",
    "            X = X[:,1:]\n",
    "            P = (y @ y.T) * (X @ X.T)\n",
    "            q = -np.ones(len(y))\n",
    "            G = -np.eye(len(y))\n",
    "            h = np.zeros((len(y),1))\n",
    "            A = (y.T) * np.ones(y.T.shape)\n",
    "            b = np.zeros(1)\n",
    "            \n",
    "            P = cvxopt.matrix(P)\n",
    "            q = cvxopt.matrix(q)\n",
    "            G = cvxopt.matrix(G)\n",
    "            h = cvxopt.matrix(h)\n",
    "            A = cvxopt.matrix(A)\n",
    "            b = cvxopt.matrix(b)\n",
    "            cvx = cvxopt.solvers.qp(P, q, G, h, A, b)\n",
    "            self.alpha = np.around(np.array(cvx['x']), decimals = 3)\n",
    "            self.w = (y * X).T @ self.alpha\n",
    "            ys = y[self.alpha > 0]\n",
    "            Xs = X[self.alpha.squeeze() > 0]\n",
    "            \n",
    "            # KKT condition\n",
    "            b = ys[0] - self.w.T @ Xs[0]\n",
    "            self.w = np.vstack((b, self.w))\n",
    "            \n",
    "            \n",
    "    def predict(self, X):\n",
    "        return np.sign(X @ self.w).squeeze()"
   ]
  },
  {
   "cell_type": "markdown",
   "metadata": {},
   "source": [
    "#### Question 8"
   ]
  },
  {
   "cell_type": "code",
   "execution_count": 11,
   "metadata": {},
   "outputs": [
    {
     "name": "stdout",
     "output_type": "stream",
     "text": [
      "Percentage of times SVM outperforms PLA: 61.60%\n"
     ]
    }
   ],
   "source": [
    "cnt_svm = 0\n",
    "n_runs = 1000\n",
    "N_in = 10\n",
    "N_out = 5000\n",
    "for n in range(n_runs):\n",
    "    coef, intercept = generate_line()\n",
    "    X, y = generate_data(N_in, coef, intercept)\n",
    "    X = np.hstack((np.ones((X.shape[0],1)), X))\n",
    "    X_out, y_out = generate_data(N_out, coef, intercept)\n",
    "    X_out = np.hstack((np.ones((X_out.shape[0],1)), X_out))\n",
    "    \n",
    "    pla = PLA()\n",
    "    pla.fit(X, y)\n",
    "    pla_pred = pla.predict(X_out)\n",
    "    \n",
    "    svm = SVM()\n",
    "    svm.fit(X, y)\n",
    "    svm_pred = svm.predict(X_out)\n",
    "    \n",
    "    e_pla = error(y_out, pla_pred)\n",
    "    e_svm = error(y_out, svm_pred)\n",
    "    if e_svm < e_pla:\n",
    "        cnt_svm += 1\n",
    "        \n",
    "print('Percentage of times SVM outperforms PLA: {:.2f}%'.format(cnt_svm/n_runs*100))"
   ]
  },
  {
   "cell_type": "markdown",
   "metadata": {},
   "source": [
    "#### Question 9"
   ]
  },
  {
   "cell_type": "code",
   "execution_count": 12,
   "metadata": {},
   "outputs": [
    {
     "name": "stdout",
     "output_type": "stream",
     "text": [
      "Percentage of times SVM outperforms PLA: 64.70%\n"
     ]
    }
   ],
   "source": [
    "cnt_svm = 0\n",
    "n_runs = 1000\n",
    "N_in = 100\n",
    "N_out = 10000\n",
    "for n in range(n_runs):\n",
    "    coef, intercept = generate_line()\n",
    "    X, y = generate_data(N_in, coef, intercept)\n",
    "    X = np.hstack((np.ones((X.shape[0],1)), X))\n",
    "    X_out, y_out = generate_data(N_out, coef, intercept)\n",
    "    X_out = np.hstack((np.ones((X_out.shape[0],1)), X_out))\n",
    "    \n",
    "    pla = PLA()\n",
    "    pla.fit(X, y)\n",
    "    pla_pred = pla.predict(X_out)\n",
    "    \n",
    "    svm = SVM()\n",
    "    svm.fit(X, y)\n",
    "    svm_pred = svm.predict(X_out)\n",
    "    \n",
    "    e_pla = error(y_out, pla_pred)\n",
    "    e_svm = error(y_out, svm_pred)\n",
    "    if e_svm < e_pla:\n",
    "        cnt_svm += 1\n",
    "        \n",
    "print('Percentage of times SVM outperforms PLA: {:.2f}%'.format(cnt_svm/n_runs*100))"
   ]
  },
  {
   "cell_type": "markdown",
   "metadata": {},
   "source": [
    "#### Question 10"
   ]
  },
  {
   "cell_type": "code",
   "execution_count": 13,
   "metadata": {},
   "outputs": [
    {
     "name": "stdout",
     "output_type": "stream",
     "text": [
      "Average number of support vectors: 3.003\n"
     ]
    }
   ],
   "source": [
    "cnt_svm = 0\n",
    "n_runs = 1000\n",
    "N_in = 100\n",
    "sup_vecs = []\n",
    "for n in range(n_runs):\n",
    "    coef, intercept = generate_line()\n",
    "    X, y = generate_data(N_in, coef, intercept)\n",
    "    X = np.hstack((np.ones((X.shape[0],1)), X))\n",
    "    \n",
    "    svm = SVM()\n",
    "    svm.fit(X, y, form='dual')\n",
    "    sup_vecs.append(len(svm.alpha[svm.alpha>0]))\n",
    "        \n",
    "print('Average number of support vectors: {}'.format(np.mean(sup_vecs)))"
   ]
  }
 ],
 "metadata": {
  "kernelspec": {
   "display_name": "Python 3",
   "language": "python",
   "name": "python3"
  },
  "language_info": {
   "codemirror_mode": {
    "name": "ipython",
    "version": 3
   },
   "file_extension": ".py",
   "mimetype": "text/x-python",
   "name": "python",
   "nbconvert_exporter": "python",
   "pygments_lexer": "ipython3",
   "version": "3.7.4"
  }
 },
 "nbformat": 4,
 "nbformat_minor": 2
}
